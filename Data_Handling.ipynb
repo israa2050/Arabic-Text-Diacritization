{
  "cells": [
    {
      "cell_type": "markdown",
      "id": "e7106486",
      "metadata": {
        "id": "e7106486"
      },
      "source": [
        "<h1>\n",
        "    Import Modules"
      ]
    },
    {
      "cell_type": "code",
      "execution_count": null,
      "id": "92f9b99f",
      "metadata": {
        "colab": {
          "base_uri": "https://localhost:8080/"
        },
        "id": "92f9b99f",
        "outputId": "e2c26fb0-fc82-4b39-ac13-5fa8fc706bc8"
      },
      "outputs": [],
      "source": [
        "import string\n",
        "import os\n",
        "import pickle as pkl\n",
        "from os import walk\n",
        "import pandas as pd\n",
        "import numpy as np\n",
        "import csv\n",
        "import matplotlib.pyplot as plt\n",
        "from matplotlib.pyplot import figure\n",
        "import tensorflow\n",
        "from tensorflow.keras.preprocessing.sequence import pad_sequences\n",
        "from tensorflow.keras.callbacks import ModelCheckpoint, EarlyStopping\n",
        "from livelossplot.tf_keras import PlotLossesCallback\n",
        "import nltk\n",
        "nltk.download('punkt')\n",
        "import unicodedata\n",
        "import joblib\n",
        "from tensorflow import keras\n",
        "import pickle"
      ]
    },
    {
      "cell_type": "code",
      "execution_count": 4,
      "id": "dSSwYC9Hfp5T",
      "metadata": {
        "id": "dSSwYC9Hfp5T"
      },
      "outputs": [],
      "source": [
        "import sys\n",
        "sys.path.append('/content/drive/MyDrive/Utils')"
      ]
    },
    {
      "cell_type": "code",
      "execution_count": 5,
      "id": "pwg0LwAHfp8D",
      "metadata": {
        "id": "pwg0LwAHfp8D"
      },
      "outputs": [],
      "source": [
        "from data_wrangling import data_wrangling\n",
        "from is_diacritic import is_diacritic\n",
        "from is_char import is_char\n",
        "from  split_daicrtics_from_arabic_text import split_daicrtics_from_arabic_text\n",
        "from padding_sequence import padding_sequence\n",
        "from concate_arabic_letters_astext_with_daicritic import concate_arabic_letters_astext_with_daicritic\n",
        "from concate_arabic_letters_asnumber_with_daicritic import concate_arabic_letters_asnumber_with_daicritic\n",
        "from remove_diacritics import remove_diacritics"
      ]
    },
    {
      "cell_type": "code",
      "execution_count": 6,
      "id": "626fa0c9",
      "metadata": {
        "id": "626fa0c9"
      },
      "outputs": [],
      "source": [
        "ARABIC_LETTERS = frozenset([chr(x) for x in (list(range(0x0621, 0x63B)) + list(range(0x0641, 0x064B)))])\n",
        "diacritic = ['َ', 'ً', 'ُ', 'ٌ', 'ِ', 'ٍ', 'ْ', 'ّ', 'َّ', 'ًّ', 'ُّ', 'ٌّ', 'ِّ', 'ٍّ','']"
      ]
    },
    {
      "cell_type": "code",
      "execution_count": 7,
      "id": "581e5059",
      "metadata": {
        "colab": {
          "base_uri": "https://localhost:8080/"
        },
        "id": "581e5059",
        "outputId": "d3af58b1-d836-430b-974a-475acb2304ab"
      },
      "outputs": [
        {
          "name": "stdout",
          "output_type": "stream",
          "text": [
            "{'ء': 0, 'آ': 1, 'أ': 2, 'ؤ': 3, 'إ': 4, 'ئ': 5, 'ا': 6, 'ب': 7, 'ة': 8, 'ت': 9, 'ث': 10, 'ج': 11, 'ح': 12, 'خ': 13, 'د': 14, 'ذ': 15, 'ر': 16, 'ز': 17, 'س': 18, 'ش': 19, 'ص': 20, 'ض': 21, 'ط': 22, 'ظ': 23, 'ع': 24, 'غ': 25, 'ف': 26, 'ق': 27, 'ك': 28, 'ل': 29, 'م': 30, 'ن': 31, 'ه': 32, 'و': 33, 'ى': 34, 'ي': 35, ' ': 36}\n"
          ]
        }
      ],
      "source": [
        "CHAR2INDEX = dict((l, n) for n, l in enumerate(sorted(ARABIC_LETTERS)))\n",
        "CHAR2INDEX.update(dict((v, k) for k, v in enumerate([' '], len(CHAR2INDEX))))\n",
        "print(CHAR2INDEX)"
      ]
    },
    {
      "cell_type": "code",
      "execution_count": 8,
      "id": "8b32d612",
      "metadata": {
        "colab": {
          "base_uri": "https://localhost:8080/"
        },
        "id": "8b32d612",
        "outputId": "56157f0c-67a3-4dac-ea54-8428f3c75258"
      },
      "outputs": [
        {
          "name": "stdout",
          "output_type": "stream",
          "text": [
            "{'َ': 0, 'ً': 1, 'ُ': 2, 'ٌ': 3, 'ِ': 4, 'ٍ': 5, 'ْ': 6, 'ّ': 7, 'َّ': 8, 'ًّ': 9, 'ُّ': 10, 'ٌّ': 11, 'ِّ': 12, 'ٍّ': 13, '': 14}\n"
          ]
        }
      ],
      "source": [
        "DIAC2INDEX= {char: i for i, char in enumerate(diacritic)}\n",
        "print(DIAC2INDEX)"
      ]
    },
    {
      "cell_type": "code",
      "execution_count": 9,
      "id": "469a411b",
      "metadata": {
        "id": "469a411b"
      },
      "outputs": [],
      "source": [
        "pd.set_option('max_colwidth', None)\n",
        "pd.set_option('display.max_rows', 1000)\n",
        "pd.set_option('display.max_columns', None)"
      ]
    },
    {
      "cell_type": "markdown",
      "id": "96c9968b",
      "metadata": {
        "id": "96c9968b"
      },
      "source": [
        "<h1>\n",
        "    Loading Tashkeela Corpus (Cleaned Version) from Huging Face"
      ]
    },
    {
      "cell_type": "code",
      "execution_count": 10,
      "id": "c3686b3a",
      "metadata": {
        "id": "c3686b3a"
      },
      "outputs": [],
      "source": [
        "import datasets"
      ]
    },
    {
      "cell_type": "markdown",
      "id": "3a841444",
      "metadata": {
        "id": "3a841444"
      },
      "source": [
        "<h1>\n",
        "    Loading Train data and Convert it into DataFrame"
      ]
    },
    {
      "cell_type": "code",
      "execution_count": 11,
      "id": "426aa357",
      "metadata": {
        "id": "426aa357"
      },
      "outputs": [],
      "source": [
        "train = datasets.load_dataset('arbml/tashkeelav2', split='train')\n"
      ]
    },
    {
      "cell_type": "code",
      "execution_count": 12,
      "id": "54a3d4c1",
      "metadata": {
        "id": "54a3d4c1"
      },
      "outputs": [],
      "source": [
        "train = pd.DataFrame(train)\n"
      ]
    },
    {
      "cell_type": "code",
      "execution_count": 13,
      "id": "0ca44217",
      "metadata": {
        "colab": {
          "base_uri": "https://localhost:8080/",
          "height": 423
        },
        "id": "0ca44217",
        "outputId": "0b9d4ac0-1ca5-42d1-96e2-401041a7e2e1"
      },
      "outputs": [
        {
          "data": {
            "text/html": [
              "\n",
              "\n",
              "  <div id=\"df-ccc0575d-ddc1-4cd9-95ed-ae6d415ed2f1\">\n",
              "    <div class=\"colab-df-container\">\n",
              "      <div>\n",
              "<style scoped>\n",
              "    .dataframe tbody tr th:only-of-type {\n",
              "        vertical-align: middle;\n",
              "    }\n",
              "\n",
              "    .dataframe tbody tr th {\n",
              "        vertical-align: top;\n",
              "    }\n",
              "\n",
              "    .dataframe thead th {\n",
              "        text-align: right;\n",
              "    }\n",
              "</style>\n",
              "<table border=\"1\" class=\"dataframe\">\n",
              "  <thead>\n",
              "    <tr style=\"text-align: right;\">\n",
              "      <th></th>\n",
              "      <th>diacratized</th>\n",
              "      <th>text</th>\n",
              "    </tr>\n",
              "  </thead>\n",
              "  <tbody>\n",
              "    <tr>\n",
              "      <th>0</th>\n",
              "      <td>إلَى مُوَكَّلِي الدَّائِنِ فَفِي حِكَايَتِهِ هَذِهِ إلْزَامُ الْمُوَكِّلِ الْمُتَوَفَّى بِالضَّمَانِ وَلِأَنَّ الدُّيُونَ تُقْضَى بِأَمْثَالِهَا إذْ يَثْبُتُ لِلْمَدِينِ فِي ذِمَّةِ الدَّائِنِ مِثْلُ مَطْلُوبِ الدَّائِنِ وَيَكُونُ تَقَاصَّا بَيْنَ الدَّيْنَيْنِ بِنَاءً عَلَيْهِ لَا يُقْبَلُ قَوْلُ الْوَكِيلِ هَذَا عَلَى الْمُوَكِّلِ بَعْدَ مَوْتِهِ وَيَلْزَمُ وَرَثَةَ الْمَدِينِ إثْبَاتُ دَفْعِهِ إلَى الدَّائِنِ وَتَسْلِيمِهِ إلَيْهِ وَاقِعَاتُ الْمُفْتِينَ وَالطَّحْطَاوِيُّ وَالْأَنْقِرْوِيُّ وَالْبَهْجَةُ</td>\n",
              "      <td>إلى موكلي الدائن ففي حكايته هذه إلزام الموكل المتوفى بالضمان ولأن الديون تقضى بأمثالها إذ يثبت للمدين في ذمة الدائن مثل مطلوب الدائن ويكون تقاصا بين الدينين بناء عليه لا يقبل قول الوكيل هذا على الموكل بعد موته ويلزم ورثة المدين إثبات دفعه إلى الدائن وتسليمه إليه واقعات المفتين والطحطاوي والأنقروي والبهجة</td>\n",
              "    </tr>\n",
              "    <tr>\n",
              "      <th>1</th>\n",
              "      <td>فَإِنْ أَبْرَءُوهُ بَعْدَ الْوَكَالَةِ لَمْ يَكُنْ وَكِيلًا فِي قَبْضِهِ أَيْضًا لِأَنَّ ذَلِكَ التَّوْكِيلَ كَانَ بَاطِلًا فَالْإِبْرَاءُ لَا يَنْقَلِبُ صَحِيحًا إلَّا أَنْ يُوَكِّلُوهُ بَعْدَ الْبَرَاءَةِ فَيَصِحُّ إنْشَاءُ التَّوْكِيلِ الْآنَ وَلَوْ كَانُوا أَبْرَءُوا الْعَبْدَيْنِ مِنْ دَيْنِهِمْ عَلَى أَنْ يَتَّبِعُوا الْمَوْلَى بِقَدْرِ الْقِيمَةِ مِنْ دَيْنِهِمْ وَتَرَاضَوْا عَلَى ذَلِكَ جَمِيعًا كَانَ جَائِزًا وَيَبْرَأُ الْعَبْدُ مِنْ الدُّيُونِ وَيَتَّبِعُونَ الْمَوْلَى بِالْقِيمَةِ لِأَنَّهُمْ بِهَذَا</td>\n",
              "      <td>فإن أبرءوه بعد الوكالة لم يكن وكيلا في قبضه أيضا لأن ذلك التوكيل كان باطلا فالإبراء لا ينقلب صحيحا إلا أن يوكلوه بعد البراءة فيصح إنشاء التوكيل الآن ولو كانوا أبرءوا العبدين من دينهم على أن يتبعوا المولى بقدر القيمة من دينهم وتراضوا على ذلك جميعا كان جائزا ويبرأ العبد من الديون ويتبعون المولى بالقيمة لأنهم بهذا</td>\n",
              "    </tr>\n",
              "    <tr>\n",
              "      <th>2</th>\n",
              "      <td>لِأَقْسَامٍ مِنْ الْعَرَبِيَّةِ جَعَلُوهَا أَيْ عُلَمَاءُ هَذَا الْعِلْمِ الْأَحْكَامَ الْمُسْتَنْبَطَةَ الْمَذْكُورَةَ مَادَّةً لَهُ أَيْ جُزْءًا لِهَذَا الْعِلْمِ وَإِنْ كَانَتْ هَذِهِ الْأَحْكَامُ فِي نَفْسِ الْأَمْرِ لَيْسَتْ مُدَوَّنَةً قَبْلَهُ أَيْ تَدْوِينِ هَذَا الْعِلْمِ وَإِنَّمَا تُذْكَرُ فِي غُضُونِ اسْتِدْلَالَاتِهِمْ فِي الْفُرُوعِ وَغَيْرِهَا وَذَلِكَ كَالْعُمُومِ وَالْخُصُوصِ وَالتَّبَايُنِ وَالتَّرَادُفِ وَالْحَقِيقَةِ وَالْمَجَازِ وَالظُّهُورِ وَالنُّصُوصِيَّةِ وَالْإِشَارَةِ وَالْعِبَارَةِ</td>\n",
              "      <td>لأقسام من العربية جعلوها أي علماء هذا العلم الأحكام المستنبطة المذكورة مادة له أي جزءا لهذا العلم وإن كانت هذه الأحكام في نفس الأمر ليست مدونة قبله أي تدوين هذا العلم وإنما تذكر في غضون استدلالاتهم في الفروع وغيرها وذلك كالعموم والخصوص والتباين والترادف والحقيقة والمجاز والظهور والنصوصية والإشارة والعبارة</td>\n",
              "    </tr>\n",
              "    <tr>\n",
              "      <th>3</th>\n",
              "      <td>بِالْأَشْيَاءِ كَوْنُهَا وَيُسَمَّى هَذَا عِلْمًا بِمَا سَيَكُونُ ثُمَّ يَعْلَمُ بَعْدَ كَوْنِهَا أَنَّهَا كَانَتْ وَذَلِكَ عِلْمٌ بِمَا كَانَ وَالْعِلْمُ بِمَا سَيَكُونُ غَيْرُ الْعِلْمِ بِمَا كَانَ وَرُدَّ بِأَنَّ التَّعْبِيرَ بِمَا كَانَ أَوْ سَيَكُونُ بِاعْتِبَارِ الْمَعْلُومِ لَا بِاعْتِبَارِ الْعِلْمِ وَتَعَلُّقِهِ فَإِنَّهُ وَاحِدٌ فَالْمَعْلُومُ قَبْلَ كَوْنِهِ يُعَبَّرُ عَنْهُ بِأَنَّهُ سَيَكُونُ وَبَعْدَ كَوْنِهِ يُعَبَّرُ عَنْهُ بِأَنَّهُ كَانَ وَمَثَّلَهُ الشِّهْرِسْتَانِيّ بِمَا لَوْ أَخْبَرَنَا</td>\n",
              "      <td>بالأشياء كونها ويسمى هذا علما بما سيكون ثم يعلم بعد كونها أنها كانت وذلك علم بما كان والعلم بما سيكون غير العلم بما كان ورد بأن التعبير بما كان أو سيكون باعتبار المعلوم لا باعتبار العلم وتعلقه فإنه واحد فالمعلوم قبل كونه يعبر عنه بأنه سيكون وبعد كونه يعبر عنه بأنه كان ومثله الشهرستاني بما لو أخبرنا</td>\n",
              "    </tr>\n",
              "    <tr>\n",
              "      <th>4</th>\n",
              "      <td>فَمَنْ تَعَجَّلَ فِي يَوْمَيْنِ فَلَا إِثْمَ عَلَيْهِ وَمَنْ تَأَخَّرَ فَلَا إِثْمَ عَلَيْهِ ثُمَّ أَرْدَفَ خَلْفَهُ فَجَعَلَ يُنَادِي بِهِنَّ حَدِيثُ بِشْرِ بْنِ سُحَيْمٍ رَضِيَ اللَّهُ تَعَالَى عَنْهُ حَدَّثَنَا سُرَيْجٌ حَدَّثَنَا حَمَّادٌ يَعْنِي ابْنَ زَيْدٍ عَنْ عَمْرِو بْنِ دِينَارٍ عَنْ نَافِعِ بْنِ جُبَيْرٍ عَنْ بِشْرِ بْنِ سُحَيْمٍ أَنَّ النَّبِيَّ صَلَّى اللَّهُ عَلَيْهِ وَسَلَّمَ أَمَرَ أَنْ يُنَادَى أَيَّامَ التَّشْرِيقِ أَنَّهُ لَا يَدْخُلُ الْجَنَّةَ إِلَّا مُؤْمِنٌ وَهِيَ أَيَّامُ أَكْلٍ وَشُرْبٍ</td>\n",
              "      <td>فمن تعجل في يومين فلا إثم عليه ومن تأخر فلا إثم عليه ثم أردف خلفه فجعل ينادي بهن حديث بشر بن سحيم رضي الله تعالى عنه حدثنا سريج حدثنا حماد يعني ابن زيد عن عمرو بن دينار عن نافع بن جبير عن بشر بن سحيم أن النبي صلى الله عليه وسلم أمر أن ينادى أيام التشريق أنه لا يدخل الجنة إلا مؤمن وهي أيام أكل وشرب</td>\n",
              "    </tr>\n",
              "  </tbody>\n",
              "</table>\n",
              "</div>\n",
              "      <button class=\"colab-df-convert\" onclick=\"convertToInteractive('df-ccc0575d-ddc1-4cd9-95ed-ae6d415ed2f1')\"\n",
              "              title=\"Convert this dataframe to an interactive table.\"\n",
              "              style=\"display:none;\">\n",
              "\n",
              "  <svg xmlns=\"http://www.w3.org/2000/svg\" height=\"24px\"viewBox=\"0 0 24 24\"\n",
              "       width=\"24px\">\n",
              "    <path d=\"M0 0h24v24H0V0z\" fill=\"none\"/>\n",
              "    <path d=\"M18.56 5.44l.94 2.06.94-2.06 2.06-.94-2.06-.94-.94-2.06-.94 2.06-2.06.94zm-11 1L8.5 8.5l.94-2.06 2.06-.94-2.06-.94L8.5 2.5l-.94 2.06-2.06.94zm10 10l.94 2.06.94-2.06 2.06-.94-2.06-.94-.94-2.06-.94 2.06-2.06.94z\"/><path d=\"M17.41 7.96l-1.37-1.37c-.4-.4-.92-.59-1.43-.59-.52 0-1.04.2-1.43.59L10.3 9.45l-7.72 7.72c-.78.78-.78 2.05 0 2.83L4 21.41c.39.39.9.59 1.41.59.51 0 1.02-.2 1.41-.59l7.78-7.78 2.81-2.81c.8-.78.8-2.07 0-2.86zM5.41 20L4 18.59l7.72-7.72 1.47 1.35L5.41 20z\"/>\n",
              "  </svg>\n",
              "      </button>\n",
              "\n",
              "\n",
              "\n",
              "    <div id=\"df-ce818603-ef30-427a-90a2-0c6e91760455\">\n",
              "      <button class=\"colab-df-quickchart\" onclick=\"quickchart('df-ce818603-ef30-427a-90a2-0c6e91760455')\"\n",
              "              title=\"Suggest charts.\"\n",
              "              style=\"display:none;\">\n",
              "\n",
              "<svg xmlns=\"http://www.w3.org/2000/svg\" height=\"24px\"viewBox=\"0 0 24 24\"\n",
              "     width=\"24px\">\n",
              "    <g>\n",
              "        <path d=\"M19 3H5c-1.1 0-2 .9-2 2v14c0 1.1.9 2 2 2h14c1.1 0 2-.9 2-2V5c0-1.1-.9-2-2-2zM9 17H7v-7h2v7zm4 0h-2V7h2v10zm4 0h-2v-4h2v4z\"/>\n",
              "    </g>\n",
              "</svg>\n",
              "      </button>\n",
              "    </div>\n",
              "\n",
              "<style>\n",
              "  .colab-df-quickchart {\n",
              "    background-color: #E8F0FE;\n",
              "    border: none;\n",
              "    border-radius: 50%;\n",
              "    cursor: pointer;\n",
              "    display: none;\n",
              "    fill: #1967D2;\n",
              "    height: 32px;\n",
              "    padding: 0 0 0 0;\n",
              "    width: 32px;\n",
              "  }\n",
              "\n",
              "  .colab-df-quickchart:hover {\n",
              "    background-color: #E2EBFA;\n",
              "    box-shadow: 0px 1px 2px rgba(60, 64, 67, 0.3), 0px 1px 3px 1px rgba(60, 64, 67, 0.15);\n",
              "    fill: #174EA6;\n",
              "  }\n",
              "\n",
              "  [theme=dark] .colab-df-quickchart {\n",
              "    background-color: #3B4455;\n",
              "    fill: #D2E3FC;\n",
              "  }\n",
              "\n",
              "  [theme=dark] .colab-df-quickchart:hover {\n",
              "    background-color: #434B5C;\n",
              "    box-shadow: 0px 1px 3px 1px rgba(0, 0, 0, 0.15);\n",
              "    filter: drop-shadow(0px 1px 2px rgba(0, 0, 0, 0.3));\n",
              "    fill: #FFFFFF;\n",
              "  }\n",
              "</style>\n",
              "\n",
              "    <script>\n",
              "      async function quickchart(key) {\n",
              "        const containerElement = document.querySelector('#' + key);\n",
              "        const charts = await google.colab.kernel.invokeFunction(\n",
              "            'suggestCharts', [key], {});\n",
              "      }\n",
              "    </script>\n",
              "\n",
              "      <script>\n",
              "\n",
              "function displayQuickchartButton(domScope) {\n",
              "  let quickchartButtonEl =\n",
              "    domScope.querySelector('#df-ce818603-ef30-427a-90a2-0c6e91760455 button.colab-df-quickchart');\n",
              "  quickchartButtonEl.style.display =\n",
              "    google.colab.kernel.accessAllowed ? 'block' : 'none';\n",
              "}\n",
              "\n",
              "        displayQuickchartButton(document);\n",
              "      </script>\n",
              "      <style>\n",
              "    .colab-df-container {\n",
              "      display:flex;\n",
              "      flex-wrap:wrap;\n",
              "      gap: 12px;\n",
              "    }\n",
              "\n",
              "    .colab-df-convert {\n",
              "      background-color: #E8F0FE;\n",
              "      border: none;\n",
              "      border-radius: 50%;\n",
              "      cursor: pointer;\n",
              "      display: none;\n",
              "      fill: #1967D2;\n",
              "      height: 32px;\n",
              "      padding: 0 0 0 0;\n",
              "      width: 32px;\n",
              "    }\n",
              "\n",
              "    .colab-df-convert:hover {\n",
              "      background-color: #E2EBFA;\n",
              "      box-shadow: 0px 1px 2px rgba(60, 64, 67, 0.3), 0px 1px 3px 1px rgba(60, 64, 67, 0.15);\n",
              "      fill: #174EA6;\n",
              "    }\n",
              "\n",
              "    [theme=dark] .colab-df-convert {\n",
              "      background-color: #3B4455;\n",
              "      fill: #D2E3FC;\n",
              "    }\n",
              "\n",
              "    [theme=dark] .colab-df-convert:hover {\n",
              "      background-color: #434B5C;\n",
              "      box-shadow: 0px 1px 3px 1px rgba(0, 0, 0, 0.15);\n",
              "      filter: drop-shadow(0px 1px 2px rgba(0, 0, 0, 0.3));\n",
              "      fill: #FFFFFF;\n",
              "    }\n",
              "  </style>\n",
              "\n",
              "      <script>\n",
              "        const buttonEl =\n",
              "          document.querySelector('#df-ccc0575d-ddc1-4cd9-95ed-ae6d415ed2f1 button.colab-df-convert');\n",
              "        buttonEl.style.display =\n",
              "          google.colab.kernel.accessAllowed ? 'block' : 'none';\n",
              "\n",
              "        async function convertToInteractive(key) {\n",
              "          const element = document.querySelector('#df-ccc0575d-ddc1-4cd9-95ed-ae6d415ed2f1');\n",
              "          const dataTable =\n",
              "            await google.colab.kernel.invokeFunction('convertToInteractive',\n",
              "                                                     [key], {});\n",
              "          if (!dataTable) return;\n",
              "\n",
              "          const docLinkHtml = 'Like what you see? Visit the ' +\n",
              "            '<a target=\"_blank\" href=https://colab.research.google.com/notebooks/data_table.ipynb>data table notebook</a>'\n",
              "            + ' to learn more about interactive tables.';\n",
              "          element.innerHTML = '';\n",
              "          dataTable['output_type'] = 'display_data';\n",
              "          await google.colab.output.renderOutput(dataTable, element);\n",
              "          const docLink = document.createElement('div');\n",
              "          docLink.innerHTML = docLinkHtml;\n",
              "          element.appendChild(docLink);\n",
              "        }\n",
              "      </script>\n",
              "    </div>\n",
              "  </div>\n"
            ],
            "text/plain": [
              "                                                                                                                                                                                                                                                                                                                                                                                                                                                                                                                             diacratized  \\\n",
              "0       إلَى مُوَكَّلِي الدَّائِنِ فَفِي حِكَايَتِهِ هَذِهِ إلْزَامُ الْمُوَكِّلِ الْمُتَوَفَّى بِالضَّمَانِ وَلِأَنَّ الدُّيُونَ تُقْضَى بِأَمْثَالِهَا إذْ يَثْبُتُ لِلْمَدِينِ فِي ذِمَّةِ الدَّائِنِ مِثْلُ مَطْلُوبِ الدَّائِنِ وَيَكُونُ تَقَاصَّا بَيْنَ الدَّيْنَيْنِ بِنَاءً عَلَيْهِ لَا يُقْبَلُ قَوْلُ الْوَكِيلِ هَذَا عَلَى الْمُوَكِّلِ بَعْدَ مَوْتِهِ وَيَلْزَمُ وَرَثَةَ الْمَدِينِ إثْبَاتُ دَفْعِهِ إلَى الدَّائِنِ وَتَسْلِيمِهِ إلَيْهِ وَاقِعَاتُ الْمُفْتِينَ وَالطَّحْطَاوِيُّ وَالْأَنْقِرْوِيُّ وَالْبَهْجَةُ   \n",
              "1  فَإِنْ أَبْرَءُوهُ بَعْدَ الْوَكَالَةِ لَمْ يَكُنْ وَكِيلًا فِي قَبْضِهِ أَيْضًا لِأَنَّ ذَلِكَ التَّوْكِيلَ كَانَ بَاطِلًا فَالْإِبْرَاءُ لَا يَنْقَلِبُ صَحِيحًا إلَّا أَنْ يُوَكِّلُوهُ بَعْدَ الْبَرَاءَةِ فَيَصِحُّ إنْشَاءُ التَّوْكِيلِ الْآنَ وَلَوْ كَانُوا أَبْرَءُوا الْعَبْدَيْنِ مِنْ دَيْنِهِمْ عَلَى أَنْ يَتَّبِعُوا الْمَوْلَى بِقَدْرِ الْقِيمَةِ مِنْ دَيْنِهِمْ وَتَرَاضَوْا عَلَى ذَلِكَ جَمِيعًا كَانَ جَائِزًا وَيَبْرَأُ الْعَبْدُ مِنْ الدُّيُونِ وَيَتَّبِعُونَ الْمَوْلَى بِالْقِيمَةِ لِأَنَّهُمْ بِهَذَا   \n",
              "2     لِأَقْسَامٍ مِنْ الْعَرَبِيَّةِ جَعَلُوهَا أَيْ عُلَمَاءُ هَذَا الْعِلْمِ الْأَحْكَامَ الْمُسْتَنْبَطَةَ الْمَذْكُورَةَ مَادَّةً لَهُ أَيْ جُزْءًا لِهَذَا الْعِلْمِ وَإِنْ كَانَتْ هَذِهِ الْأَحْكَامُ فِي نَفْسِ الْأَمْرِ لَيْسَتْ مُدَوَّنَةً قَبْلَهُ أَيْ تَدْوِينِ هَذَا الْعِلْمِ وَإِنَّمَا تُذْكَرُ فِي غُضُونِ اسْتِدْلَالَاتِهِمْ فِي الْفُرُوعِ وَغَيْرِهَا وَذَلِكَ كَالْعُمُومِ وَالْخُصُوصِ وَالتَّبَايُنِ وَالتَّرَادُفِ وَالْحَقِيقَةِ وَالْمَجَازِ وَالظُّهُورِ وَالنُّصُوصِيَّةِ وَالْإِشَارَةِ وَالْعِبَارَةِ   \n",
              "3      بِالْأَشْيَاءِ كَوْنُهَا وَيُسَمَّى هَذَا عِلْمًا بِمَا سَيَكُونُ ثُمَّ يَعْلَمُ بَعْدَ كَوْنِهَا أَنَّهَا كَانَتْ وَذَلِكَ عِلْمٌ بِمَا كَانَ وَالْعِلْمُ بِمَا سَيَكُونُ غَيْرُ الْعِلْمِ بِمَا كَانَ وَرُدَّ بِأَنَّ التَّعْبِيرَ بِمَا كَانَ أَوْ سَيَكُونُ بِاعْتِبَارِ الْمَعْلُومِ لَا بِاعْتِبَارِ الْعِلْمِ وَتَعَلُّقِهِ فَإِنَّهُ وَاحِدٌ فَالْمَعْلُومُ قَبْلَ كَوْنِهِ يُعَبَّرُ عَنْهُ بِأَنَّهُ سَيَكُونُ وَبَعْدَ كَوْنِهِ يُعَبَّرُ عَنْهُ بِأَنَّهُ كَانَ وَمَثَّلَهُ الشِّهْرِسْتَانِيّ بِمَا لَوْ أَخْبَرَنَا   \n",
              "4  فَمَنْ تَعَجَّلَ فِي يَوْمَيْنِ فَلَا إِثْمَ عَلَيْهِ وَمَنْ تَأَخَّرَ فَلَا إِثْمَ عَلَيْهِ ثُمَّ أَرْدَفَ خَلْفَهُ فَجَعَلَ يُنَادِي بِهِنَّ حَدِيثُ بِشْرِ بْنِ سُحَيْمٍ رَضِيَ اللَّهُ تَعَالَى عَنْهُ حَدَّثَنَا سُرَيْجٌ حَدَّثَنَا حَمَّادٌ يَعْنِي ابْنَ زَيْدٍ عَنْ عَمْرِو بْنِ دِينَارٍ عَنْ نَافِعِ بْنِ جُبَيْرٍ عَنْ بِشْرِ بْنِ سُحَيْمٍ أَنَّ النَّبِيَّ صَلَّى اللَّهُ عَلَيْهِ وَسَلَّمَ أَمَرَ أَنْ يُنَادَى أَيَّامَ التَّشْرِيقِ أَنَّهُ لَا يَدْخُلُ الْجَنَّةَ إِلَّا مُؤْمِنٌ وَهِيَ أَيَّامُ أَكْلٍ وَشُرْبٍ   \n",
              "\n",
              "                                                                                                                                                                                                                                                                                                                       text  \n",
              "0         إلى موكلي الدائن ففي حكايته هذه إلزام الموكل المتوفى بالضمان ولأن الديون تقضى بأمثالها إذ يثبت للمدين في ذمة الدائن مثل مطلوب الدائن ويكون تقاصا بين الدينين بناء عليه لا يقبل قول الوكيل هذا على الموكل بعد موته ويلزم ورثة المدين إثبات دفعه إلى الدائن وتسليمه إليه واقعات المفتين والطحطاوي والأنقروي والبهجة  \n",
              "1  فإن أبرءوه بعد الوكالة لم يكن وكيلا في قبضه أيضا لأن ذلك التوكيل كان باطلا فالإبراء لا ينقلب صحيحا إلا أن يوكلوه بعد البراءة فيصح إنشاء التوكيل الآن ولو كانوا أبرءوا العبدين من دينهم على أن يتبعوا المولى بقدر القيمة من دينهم وتراضوا على ذلك جميعا كان جائزا ويبرأ العبد من الديون ويتبعون المولى بالقيمة لأنهم بهذا  \n",
              "2        لأقسام من العربية جعلوها أي علماء هذا العلم الأحكام المستنبطة المذكورة مادة له أي جزءا لهذا العلم وإن كانت هذه الأحكام في نفس الأمر ليست مدونة قبله أي تدوين هذا العلم وإنما تذكر في غضون استدلالاتهم في الفروع وغيرها وذلك كالعموم والخصوص والتباين والترادف والحقيقة والمجاز والظهور والنصوصية والإشارة والعبارة  \n",
              "3               بالأشياء كونها ويسمى هذا علما بما سيكون ثم يعلم بعد كونها أنها كانت وذلك علم بما كان والعلم بما سيكون غير العلم بما كان ورد بأن التعبير بما كان أو سيكون باعتبار المعلوم لا باعتبار العلم وتعلقه فإنه واحد فالمعلوم قبل كونه يعبر عنه بأنه سيكون وبعد كونه يعبر عنه بأنه كان ومثله الشهرستاني بما لو أخبرنا  \n",
              "4                فمن تعجل في يومين فلا إثم عليه ومن تأخر فلا إثم عليه ثم أردف خلفه فجعل ينادي بهن حديث بشر بن سحيم رضي الله تعالى عنه حدثنا سريج حدثنا حماد يعني ابن زيد عن عمرو بن دينار عن نافع بن جبير عن بشر بن سحيم أن النبي صلى الله عليه وسلم أمر أن ينادى أيام التشريق أنه لا يدخل الجنة إلا مؤمن وهي أيام أكل وشرب  "
            ]
          },
          "execution_count": 13,
          "metadata": {},
          "output_type": "execute_result"
        }
      ],
      "source": [
        "train.head()"
      ]
    },
    {
      "cell_type": "code",
      "execution_count": 14,
      "id": "9cf8cbbf",
      "metadata": {
        "colab": {
          "base_uri": "https://localhost:8080/",
          "height": 510
        },
        "id": "9cf8cbbf",
        "outputId": "5c49ead9-aa30-43ff-be43-19c607001386"
      },
      "outputs": [
        {
          "data": {
            "text/html": [
              "\n",
              "\n",
              "  <div id=\"df-0a790ba2-f92e-4aa5-a168-c52ba79298c1\">\n",
              "    <div class=\"colab-df-container\">\n",
              "      <div>\n",
              "<style scoped>\n",
              "    .dataframe tbody tr th:only-of-type {\n",
              "        vertical-align: middle;\n",
              "    }\n",
              "\n",
              "    .dataframe tbody tr th {\n",
              "        vertical-align: top;\n",
              "    }\n",
              "\n",
              "    .dataframe thead th {\n",
              "        text-align: right;\n",
              "    }\n",
              "</style>\n",
              "<table border=\"1\" class=\"dataframe\">\n",
              "  <thead>\n",
              "    <tr style=\"text-align: right;\">\n",
              "      <th></th>\n",
              "      <th>diacratized</th>\n",
              "      <th>text</th>\n",
              "    </tr>\n",
              "  </thead>\n",
              "  <tbody>\n",
              "    <tr>\n",
              "      <th>522458</th>\n",
              "      <td>وَلَنَا مَا رُوِيَ أَنَّ النَّبِيَّ صَلَّى اللَّهُ عَلَيْهِ وَسَلَّمَ صَلَّى عَلَى جِنَازَةٍ فَلَمَّا فَرَغَ جَاءَ عُمَرُ وَمَعَهُ قَوْمٌ فَأَرَادَ أَنْ يُصَلِّيَ ثَانِيًا فَقَالَ لَهُ النَّبِيُّ صَلَّى اللَّهُ عَلَيْهِ وَسَلَّمَ الصَّلَاةُ عَلَى الْجِنَازَةِ لَا تُعَادُ وَلَكِنْ اُدْعُ لِلْمَيِّتِ وَاسْتَغْفِرْ لَهُ وَهَذَا نَصٌّ فِي الْبَابِ وَرُوِيَ أَنَّ ابْنَ عَبَّاسٍ وَابْنَ عُمَرَ رَضِيَ اللَّهُ تَعَالَى عَنْهُمْ فَاتَتْهُمَا صَلَاةٌ عَلَى جِنَازَةٍ فَلَمَّا حَضَرَا مَا زَادَا عَلَى الِاسْتِغْفَارِ لَهُ</td>\n",
              "      <td>ولنا ما روي أن النبي صلى الله عليه وسلم صلى على جنازة فلما فرغ جاء عمر ومعه قوم فأراد أن يصلي ثانيا فقال له النبي صلى الله عليه وسلم الصلاة على الجنازة لا تعاد ولكن ادع للميت واستغفر له وهذا نص في الباب وروي أن ابن عباس وابن عمر رضي الله تعالى عنهم فاتتهما صلاة على جنازة فلما حضرا ما زادا على الاستغفار له</td>\n",
              "    </tr>\n",
              "    <tr>\n",
              "      <th>522459</th>\n",
              "      <td>وَهِيَ أَيْ صَدَقَةُ الْفِطْرِ نِصْفُ صَاعٍ مِنْ بُرٍّ أَوْ دَقِيقِهِ أَوْ سَوِيقِهِ وَالْمُرَادُ مِنْهُمَا مَا يُتَّخَذُ مِنْ الْبُرِّ أَمَّا دَقِيقُ الشَّعِيرِ أَوْ سَوِيقُهُ فَكَالشَّعِيرِ وَالْأَوْلَى أَنْ يُرَاعَى فِيهِمَا الْقَدْرُ وَالْقِيمَةُ أَوْ صَاعٌ مِنْ تَمْرٍ وَشَعِيرٍ لِقَوْلِهِ عَلَيْهِ الصَّلَاةُ وَالسَّلَامُ أَدُّوا عَنْ كُلِّ حُرٍّ وَعَبْدٍ صَغِيرٍ أَوْ كَبِيرٍ نِصْفَ صَاعٍ مِنْ بُرٍّ أَوْ صَاعًا مِنْ تَمْرٍ أَوْ صَاعًا مِنْ شَعِيرٍ وَهَذَا حُجَّةٌ عَلَى الشَّافِعِيِّ فَإِنَّهُ قَالَ فِي الْكُلِّ</td>\n",
              "      <td>وهي أي صدقة الفطر نصف صاع من بر أو دقيقه أو سويقه والمراد منهما ما يتخذ من البر أما دقيق الشعير أو سويقه فكالشعير والأولى أن يراعى فيهما القدر والقيمة أو صاع من تمر وشعير لقوله عليه الصلاة والسلام أدوا عن كل حر وعبد صغير أو كبير نصف صاع من بر أو صاعا من تمر أو صاعا من شعير وهذا حجة على الشافعي فإنه قال في الكل</td>\n",
              "    </tr>\n",
              "    <tr>\n",
              "      <th>522460</th>\n",
              "      <td>قَوْلُهُ الْمُقْتَضَى أَوْ الْمُخَيَّرُ الْإِسْنَادُ فِيهِمَا مَجَازِيٌّ إذْ الْمُقْتَضَى وَالْمُخَيَّرُ فِي الْحَقِيقَةِ هُوَ اللَّهُ قَوْلُهُ كَمَا تَقَدَّمَ أَيْ عِنْدَ قَوْلِ الْمُصَنِّفِ وَالْحُكْمُ خِطَابُ اللَّهِ وَهُوَ رَاجِعٌ لِقَوْلِهِ الَّذِي هُوَ الْحُكْمُ الْمُتَعَارَفُ أَيْ مِنْ أَنَّهُ خِطَابٌ مُتَعَلِّقٌ بِفِعْلِ الْمُكَلَّفِ مِنْ حَيْثُ إنَّهُ مُلْزَمٌ مَا فِيهِ كُلْفَةٌ قَوْلُهُ وَمِنْ خِطَابِ الْوَضْعِ نَبَّهَ بِتَكْرِيرِ مِنْ عَلَى أَنَّ مَقْصُودَ الْمُصَنِّفِ بِالسُّنَّةِ لِلْوَضْعِ خِطَابُ</td>\n",
              "      <td>قوله المقتضى أو المخير الإسناد فيهما مجازي إذ المقتضى والمخير في الحقيقة هو الله قوله كما تقدم أي عند قول المصنف والحكم خطاب الله وهو راجع لقوله الذي هو الحكم المتعارف أي من أنه خطاب متعلق بفعل المكلف من حيث إنه ملزم ما فيه كلفة قوله ومن خطاب الوضع نبه بتكرير من على أن مقصود المصنف بالسنة للوضع خطاب</td>\n",
              "    </tr>\n",
              "    <tr>\n",
              "      <th>522461</th>\n",
              "      <td>طَلَبَهُ وَامْتَنَعَ الْمُشْتَرِي مِنْهُ لِأَنَّ الْمُشْتَرِيَ قَدْ يَكُونُ غَرَضُهُ فِي الْجَمِيعِ وَمِنْهُ مَا يَأْخُذُهُ الشَّفِيعُ قَوْلُهُ غَيْرُ مُعْتَبَرٍ أَيْ بَلْ لَوْ كَانَتْ الْحِصَّةُ وَاحِدَةً وَأَرَادَ الشَّفِيعُ أَخْذَ بَعْضِهَا بِالشُّفْعَةِ لَمْ يُجْبَرْ الْمُشْتَرِي عَلَى التَّبْعِيضِ وَكَذَلِكَ إذَا تَعَدَّدَتْ الْحِصَصُ وَكَانَ بَائِعُهَا وَاحِدًا كَمَا لَوْ كَانَتْ دَارٌ وَحَانُوتٌ وَبُسْتَانٌ شَرِكَةً بَيْنَ اثْنَيْنِ وَبَاعَ أَحَدُهُمَا حِصَّتَهُ فِي الثَّلَاثَةِ لِأَجْنَبِيٍّ فَلَيْسَ</td>\n",
              "      <td>طلبه وامتنع المشتري منه لأن المشتري قد يكون غرضه في الجميع ومنه ما يأخذه الشفيع قوله غير معتبر أي بل لو كانت الحصة واحدة وأراد الشفيع أخذ بعضها بالشفعة لم يجبر المشتري على التبعيض وكذلك إذا تعددت الحصص وكان بائعها واحدا كما لو كانت دار وحانوت وبستان شركة بين اثنين وباع أحدهما حصته في الثلاثة لأجنبي فليس</td>\n",
              "    </tr>\n",
              "    <tr>\n",
              "      <th>522462</th>\n",
              "      <td>قُلْتُ فَإِنْ كَانَ أَرَادَ أَنْ يَرُدَّ قَالَ مَالِكٌ ذَلِكَ لَهُ فَإِنْ قَالَ الْبَائِعُ لَيْسَ ذَلِكَ لَكَ حَتَّى تَسْتَشِيرَ فُلَانًا لَمْ يُلْتَفَتْ إلَى قَوْلِ الْبَائِعِ قَالَ مَالِكٌ وَاَلَّذِي اشْتَرَى عَلَى إنْ رَضِيَ فُلَانٌ فَلَيْسَ ذَلِكَ لِلْمُشْتَرِي أَنْ يُمْضِيَ وَلَا يَرُدَّ حَتَّى يَرْضَى فُلَانٌ الَّذِي جَعَلَ لَهُ الرِّضَا وَاَلَّذِي اشْتَرَى عَلَى أَنَّ فُلَانًا بِالْخِيَارِ مِثْلُ ذَلِكَ وَقَالَ أَشْهَبُ إنَّهُ جَائِزٌ إذَا اشْتَرَى سِلْعَةً عَلَى أَنَّ رَجُلًا أَجْنَبِيًّا أَوْ ذَا قَرَابَةٍ</td>\n",
              "      <td>قلت فإن كان أراد أن يرد قال مالك ذلك له فإن قال البائع ليس ذلك لك حتى تستشير فلانا لم يلتفت إلى قول البائع قال مالك والذي اشترى على إن رضي فلان فليس ذلك للمشتري أن يمضي ولا يرد حتى يرضى فلان الذي جعل له الرضا والذي اشترى على أن فلانا بالخيار مثل ذلك وقال أشهب إنه جائز إذا اشترى سلعة على أن رجلا أجنبيا أو ذا قرابة</td>\n",
              "    </tr>\n",
              "  </tbody>\n",
              "</table>\n",
              "</div>\n",
              "      <button class=\"colab-df-convert\" onclick=\"convertToInteractive('df-0a790ba2-f92e-4aa5-a168-c52ba79298c1')\"\n",
              "              title=\"Convert this dataframe to an interactive table.\"\n",
              "              style=\"display:none;\">\n",
              "\n",
              "  <svg xmlns=\"http://www.w3.org/2000/svg\" height=\"24px\"viewBox=\"0 0 24 24\"\n",
              "       width=\"24px\">\n",
              "    <path d=\"M0 0h24v24H0V0z\" fill=\"none\"/>\n",
              "    <path d=\"M18.56 5.44l.94 2.06.94-2.06 2.06-.94-2.06-.94-.94-2.06-.94 2.06-2.06.94zm-11 1L8.5 8.5l.94-2.06 2.06-.94-2.06-.94L8.5 2.5l-.94 2.06-2.06.94zm10 10l.94 2.06.94-2.06 2.06-.94-2.06-.94-.94-2.06-.94 2.06-2.06.94z\"/><path d=\"M17.41 7.96l-1.37-1.37c-.4-.4-.92-.59-1.43-.59-.52 0-1.04.2-1.43.59L10.3 9.45l-7.72 7.72c-.78.78-.78 2.05 0 2.83L4 21.41c.39.39.9.59 1.41.59.51 0 1.02-.2 1.41-.59l7.78-7.78 2.81-2.81c.8-.78.8-2.07 0-2.86zM5.41 20L4 18.59l7.72-7.72 1.47 1.35L5.41 20z\"/>\n",
              "  </svg>\n",
              "      </button>\n",
              "\n",
              "\n",
              "\n",
              "    <div id=\"df-cef7b61b-fd7e-44f4-9375-f27610b39b50\">\n",
              "      <button class=\"colab-df-quickchart\" onclick=\"quickchart('df-cef7b61b-fd7e-44f4-9375-f27610b39b50')\"\n",
              "              title=\"Suggest charts.\"\n",
              "              style=\"display:none;\">\n",
              "\n",
              "<svg xmlns=\"http://www.w3.org/2000/svg\" height=\"24px\"viewBox=\"0 0 24 24\"\n",
              "     width=\"24px\">\n",
              "    <g>\n",
              "        <path d=\"M19 3H5c-1.1 0-2 .9-2 2v14c0 1.1.9 2 2 2h14c1.1 0 2-.9 2-2V5c0-1.1-.9-2-2-2zM9 17H7v-7h2v7zm4 0h-2V7h2v10zm4 0h-2v-4h2v4z\"/>\n",
              "    </g>\n",
              "</svg>\n",
              "      </button>\n",
              "    </div>\n",
              "\n",
              "<style>\n",
              "  .colab-df-quickchart {\n",
              "    background-color: #E8F0FE;\n",
              "    border: none;\n",
              "    border-radius: 50%;\n",
              "    cursor: pointer;\n",
              "    display: none;\n",
              "    fill: #1967D2;\n",
              "    height: 32px;\n",
              "    padding: 0 0 0 0;\n",
              "    width: 32px;\n",
              "  }\n",
              "\n",
              "  .colab-df-quickchart:hover {\n",
              "    background-color: #E2EBFA;\n",
              "    box-shadow: 0px 1px 2px rgba(60, 64, 67, 0.3), 0px 1px 3px 1px rgba(60, 64, 67, 0.15);\n",
              "    fill: #174EA6;\n",
              "  }\n",
              "\n",
              "  [theme=dark] .colab-df-quickchart {\n",
              "    background-color: #3B4455;\n",
              "    fill: #D2E3FC;\n",
              "  }\n",
              "\n",
              "  [theme=dark] .colab-df-quickchart:hover {\n",
              "    background-color: #434B5C;\n",
              "    box-shadow: 0px 1px 3px 1px rgba(0, 0, 0, 0.15);\n",
              "    filter: drop-shadow(0px 1px 2px rgba(0, 0, 0, 0.3));\n",
              "    fill: #FFFFFF;\n",
              "  }\n",
              "</style>\n",
              "\n",
              "    <script>\n",
              "      async function quickchart(key) {\n",
              "        const containerElement = document.querySelector('#' + key);\n",
              "        const charts = await google.colab.kernel.invokeFunction(\n",
              "            'suggestCharts', [key], {});\n",
              "      }\n",
              "    </script>\n",
              "\n",
              "      <script>\n",
              "\n",
              "function displayQuickchartButton(domScope) {\n",
              "  let quickchartButtonEl =\n",
              "    domScope.querySelector('#df-cef7b61b-fd7e-44f4-9375-f27610b39b50 button.colab-df-quickchart');\n",
              "  quickchartButtonEl.style.display =\n",
              "    google.colab.kernel.accessAllowed ? 'block' : 'none';\n",
              "}\n",
              "\n",
              "        displayQuickchartButton(document);\n",
              "      </script>\n",
              "      <style>\n",
              "    .colab-df-container {\n",
              "      display:flex;\n",
              "      flex-wrap:wrap;\n",
              "      gap: 12px;\n",
              "    }\n",
              "\n",
              "    .colab-df-convert {\n",
              "      background-color: #E8F0FE;\n",
              "      border: none;\n",
              "      border-radius: 50%;\n",
              "      cursor: pointer;\n",
              "      display: none;\n",
              "      fill: #1967D2;\n",
              "      height: 32px;\n",
              "      padding: 0 0 0 0;\n",
              "      width: 32px;\n",
              "    }\n",
              "\n",
              "    .colab-df-convert:hover {\n",
              "      background-color: #E2EBFA;\n",
              "      box-shadow: 0px 1px 2px rgba(60, 64, 67, 0.3), 0px 1px 3px 1px rgba(60, 64, 67, 0.15);\n",
              "      fill: #174EA6;\n",
              "    }\n",
              "\n",
              "    [theme=dark] .colab-df-convert {\n",
              "      background-color: #3B4455;\n",
              "      fill: #D2E3FC;\n",
              "    }\n",
              "\n",
              "    [theme=dark] .colab-df-convert:hover {\n",
              "      background-color: #434B5C;\n",
              "      box-shadow: 0px 1px 3px 1px rgba(0, 0, 0, 0.15);\n",
              "      filter: drop-shadow(0px 1px 2px rgba(0, 0, 0, 0.3));\n",
              "      fill: #FFFFFF;\n",
              "    }\n",
              "  </style>\n",
              "\n",
              "      <script>\n",
              "        const buttonEl =\n",
              "          document.querySelector('#df-0a790ba2-f92e-4aa5-a168-c52ba79298c1 button.colab-df-convert');\n",
              "        buttonEl.style.display =\n",
              "          google.colab.kernel.accessAllowed ? 'block' : 'none';\n",
              "\n",
              "        async function convertToInteractive(key) {\n",
              "          const element = document.querySelector('#df-0a790ba2-f92e-4aa5-a168-c52ba79298c1');\n",
              "          const dataTable =\n",
              "            await google.colab.kernel.invokeFunction('convertToInteractive',\n",
              "                                                     [key], {});\n",
              "          if (!dataTable) return;\n",
              "\n",
              "          const docLinkHtml = 'Like what you see? Visit the ' +\n",
              "            '<a target=\"_blank\" href=https://colab.research.google.com/notebooks/data_table.ipynb>data table notebook</a>'\n",
              "            + ' to learn more about interactive tables.';\n",
              "          element.innerHTML = '';\n",
              "          dataTable['output_type'] = 'display_data';\n",
              "          await google.colab.output.renderOutput(dataTable, element);\n",
              "          const docLink = document.createElement('div');\n",
              "          docLink.innerHTML = docLinkHtml;\n",
              "          element.appendChild(docLink);\n",
              "        }\n",
              "      </script>\n",
              "    </div>\n",
              "  </div>\n"
            ],
            "text/plain": [
              "                                                                                                                                                                                                                                                                                                                                                                                                                                                                                                                                     diacratized  \\\n",
              "522458       وَلَنَا مَا رُوِيَ أَنَّ النَّبِيَّ صَلَّى اللَّهُ عَلَيْهِ وَسَلَّمَ صَلَّى عَلَى جِنَازَةٍ فَلَمَّا فَرَغَ جَاءَ عُمَرُ وَمَعَهُ قَوْمٌ فَأَرَادَ أَنْ يُصَلِّيَ ثَانِيًا فَقَالَ لَهُ النَّبِيُّ صَلَّى اللَّهُ عَلَيْهِ وَسَلَّمَ الصَّلَاةُ عَلَى الْجِنَازَةِ لَا تُعَادُ وَلَكِنْ اُدْعُ لِلْمَيِّتِ وَاسْتَغْفِرْ لَهُ وَهَذَا نَصٌّ فِي الْبَابِ وَرُوِيَ أَنَّ ابْنَ عَبَّاسٍ وَابْنَ عُمَرَ رَضِيَ اللَّهُ تَعَالَى عَنْهُمْ فَاتَتْهُمَا صَلَاةٌ عَلَى جِنَازَةٍ فَلَمَّا حَضَرَا مَا زَادَا عَلَى الِاسْتِغْفَارِ لَهُ   \n",
              "522459  وَهِيَ أَيْ صَدَقَةُ الْفِطْرِ نِصْفُ صَاعٍ مِنْ بُرٍّ أَوْ دَقِيقِهِ أَوْ سَوِيقِهِ وَالْمُرَادُ مِنْهُمَا مَا يُتَّخَذُ مِنْ الْبُرِّ أَمَّا دَقِيقُ الشَّعِيرِ أَوْ سَوِيقُهُ فَكَالشَّعِيرِ وَالْأَوْلَى أَنْ يُرَاعَى فِيهِمَا الْقَدْرُ وَالْقِيمَةُ أَوْ صَاعٌ مِنْ تَمْرٍ وَشَعِيرٍ لِقَوْلِهِ عَلَيْهِ الصَّلَاةُ وَالسَّلَامُ أَدُّوا عَنْ كُلِّ حُرٍّ وَعَبْدٍ صَغِيرٍ أَوْ كَبِيرٍ نِصْفَ صَاعٍ مِنْ بُرٍّ أَوْ صَاعًا مِنْ تَمْرٍ أَوْ صَاعًا مِنْ شَعِيرٍ وَهَذَا حُجَّةٌ عَلَى الشَّافِعِيِّ فَإِنَّهُ قَالَ فِي الْكُلِّ   \n",
              "522460      قَوْلُهُ الْمُقْتَضَى أَوْ الْمُخَيَّرُ الْإِسْنَادُ فِيهِمَا مَجَازِيٌّ إذْ الْمُقْتَضَى وَالْمُخَيَّرُ فِي الْحَقِيقَةِ هُوَ اللَّهُ قَوْلُهُ كَمَا تَقَدَّمَ أَيْ عِنْدَ قَوْلِ الْمُصَنِّفِ وَالْحُكْمُ خِطَابُ اللَّهِ وَهُوَ رَاجِعٌ لِقَوْلِهِ الَّذِي هُوَ الْحُكْمُ الْمُتَعَارَفُ أَيْ مِنْ أَنَّهُ خِطَابٌ مُتَعَلِّقٌ بِفِعْلِ الْمُكَلَّفِ مِنْ حَيْثُ إنَّهُ مُلْزَمٌ مَا فِيهِ كُلْفَةٌ قَوْلُهُ وَمِنْ خِطَابِ الْوَضْعِ نَبَّهَ بِتَكْرِيرِ مِنْ عَلَى أَنَّ مَقْصُودَ الْمُصَنِّفِ بِالسُّنَّةِ لِلْوَضْعِ خِطَابُ   \n",
              "522461         طَلَبَهُ وَامْتَنَعَ الْمُشْتَرِي مِنْهُ لِأَنَّ الْمُشْتَرِيَ قَدْ يَكُونُ غَرَضُهُ فِي الْجَمِيعِ وَمِنْهُ مَا يَأْخُذُهُ الشَّفِيعُ قَوْلُهُ غَيْرُ مُعْتَبَرٍ أَيْ بَلْ لَوْ كَانَتْ الْحِصَّةُ وَاحِدَةً وَأَرَادَ الشَّفِيعُ أَخْذَ بَعْضِهَا بِالشُّفْعَةِ لَمْ يُجْبَرْ الْمُشْتَرِي عَلَى التَّبْعِيضِ وَكَذَلِكَ إذَا تَعَدَّدَتْ الْحِصَصُ وَكَانَ بَائِعُهَا وَاحِدًا كَمَا لَوْ كَانَتْ دَارٌ وَحَانُوتٌ وَبُسْتَانٌ شَرِكَةً بَيْنَ اثْنَيْنِ وَبَاعَ أَحَدُهُمَا حِصَّتَهُ فِي الثَّلَاثَةِ لِأَجْنَبِيٍّ فَلَيْسَ   \n",
              "522462  قُلْتُ فَإِنْ كَانَ أَرَادَ أَنْ يَرُدَّ قَالَ مَالِكٌ ذَلِكَ لَهُ فَإِنْ قَالَ الْبَائِعُ لَيْسَ ذَلِكَ لَكَ حَتَّى تَسْتَشِيرَ فُلَانًا لَمْ يُلْتَفَتْ إلَى قَوْلِ الْبَائِعِ قَالَ مَالِكٌ وَاَلَّذِي اشْتَرَى عَلَى إنْ رَضِيَ فُلَانٌ فَلَيْسَ ذَلِكَ لِلْمُشْتَرِي أَنْ يُمْضِيَ وَلَا يَرُدَّ حَتَّى يَرْضَى فُلَانٌ الَّذِي جَعَلَ لَهُ الرِّضَا وَاَلَّذِي اشْتَرَى عَلَى أَنَّ فُلَانًا بِالْخِيَارِ مِثْلُ ذَلِكَ وَقَالَ أَشْهَبُ إنَّهُ جَائِزٌ إذَا اشْتَرَى سِلْعَةً عَلَى أَنَّ رَجُلًا أَجْنَبِيًّا أَوْ ذَا قَرَابَةٍ   \n",
              "\n",
              "                                                                                                                                                                                                                                                                                                                              text  \n",
              "522458          ولنا ما روي أن النبي صلى الله عليه وسلم صلى على جنازة فلما فرغ جاء عمر ومعه قوم فأراد أن يصلي ثانيا فقال له النبي صلى الله عليه وسلم الصلاة على الجنازة لا تعاد ولكن ادع للميت واستغفر له وهذا نص في الباب وروي أن ابن عباس وابن عمر رضي الله تعالى عنهم فاتتهما صلاة على جنازة فلما حضرا ما زادا على الاستغفار له  \n",
              "522459     وهي أي صدقة الفطر نصف صاع من بر أو دقيقه أو سويقه والمراد منهما ما يتخذ من البر أما دقيق الشعير أو سويقه فكالشعير والأولى أن يراعى فيهما القدر والقيمة أو صاع من تمر وشعير لقوله عليه الصلاة والسلام أدوا عن كل حر وعبد صغير أو كبير نصف صاع من بر أو صاعا من تمر أو صاعا من شعير وهذا حجة على الشافعي فإنه قال في الكل  \n",
              "522460                قوله المقتضى أو المخير الإسناد فيهما مجازي إذ المقتضى والمخير في الحقيقة هو الله قوله كما تقدم أي عند قول المصنف والحكم خطاب الله وهو راجع لقوله الذي هو الحكم المتعارف أي من أنه خطاب متعلق بفعل المكلف من حيث إنه ملزم ما فيه كلفة قوله ومن خطاب الوضع نبه بتكرير من على أن مقصود المصنف بالسنة للوضع خطاب  \n",
              "522461            طلبه وامتنع المشتري منه لأن المشتري قد يكون غرضه في الجميع ومنه ما يأخذه الشفيع قوله غير معتبر أي بل لو كانت الحصة واحدة وأراد الشفيع أخذ بعضها بالشفعة لم يجبر المشتري على التبعيض وكذلك إذا تعددت الحصص وكان بائعها واحدا كما لو كانت دار وحانوت وبستان شركة بين اثنين وباع أحدهما حصته في الثلاثة لأجنبي فليس  \n",
              "522462  قلت فإن كان أراد أن يرد قال مالك ذلك له فإن قال البائع ليس ذلك لك حتى تستشير فلانا لم يلتفت إلى قول البائع قال مالك والذي اشترى على إن رضي فلان فليس ذلك للمشتري أن يمضي ولا يرد حتى يرضى فلان الذي جعل له الرضا والذي اشترى على أن فلانا بالخيار مثل ذلك وقال أشهب إنه جائز إذا اشترى سلعة على أن رجلا أجنبيا أو ذا قرابة  "
            ]
          },
          "execution_count": 14,
          "metadata": {},
          "output_type": "execute_result"
        }
      ],
      "source": [
        "train.tail()"
      ]
    },
    {
      "cell_type": "code",
      "execution_count": 15,
      "id": "5d411077",
      "metadata": {
        "colab": {
          "base_uri": "https://localhost:8080/"
        },
        "id": "5d411077",
        "outputId": "aaea54fc-1884-48ba-a99b-b9e1fc84e26c"
      },
      "outputs": [
        {
          "data": {
            "text/plain": [
              "522463"
            ]
          },
          "execution_count": 15,
          "metadata": {},
          "output_type": "execute_result"
        }
      ],
      "source": [
        "# Checking Length of diacratized text column in dataFrame\n",
        "diacritic_train = train['diacratized']\n",
        "len(diacritic_train)"
      ]
    },
    {
      "cell_type": "markdown",
      "id": "09a87870",
      "metadata": {
        "id": "09a87870"
      },
      "source": [
        "<h1>\n",
        "    Loading Test data & Convert it into DataFrame"
      ]
    },
    {
      "cell_type": "code",
      "execution_count": 16,
      "id": "0ecdc647",
      "metadata": {
        "id": "0ecdc647"
      },
      "outputs": [],
      "source": [
        "test = datasets.load_dataset('arbml/tashkeelav2', split='test')"
      ]
    },
    {
      "cell_type": "code",
      "execution_count": 17,
      "id": "fd0dabac",
      "metadata": {
        "id": "fd0dabac"
      },
      "outputs": [],
      "source": [
        "test = pd.DataFrame(test)"
      ]
    },
    {
      "cell_type": "code",
      "execution_count": 18,
      "id": "3743a906",
      "metadata": {
        "colab": {
          "base_uri": "https://localhost:8080/",
          "height": 423
        },
        "id": "3743a906",
        "outputId": "03ddfa4c-d3fd-4f56-9947-f9b98ecd7acb"
      },
      "outputs": [
        {
          "data": {
            "text/html": [
              "\n",
              "\n",
              "  <div id=\"df-a0fcc7e7-de0d-4336-b2ec-3dad9115d709\">\n",
              "    <div class=\"colab-df-container\">\n",
              "      <div>\n",
              "<style scoped>\n",
              "    .dataframe tbody tr th:only-of-type {\n",
              "        vertical-align: middle;\n",
              "    }\n",
              "\n",
              "    .dataframe tbody tr th {\n",
              "        vertical-align: top;\n",
              "    }\n",
              "\n",
              "    .dataframe thead th {\n",
              "        text-align: right;\n",
              "    }\n",
              "</style>\n",
              "<table border=\"1\" class=\"dataframe\">\n",
              "  <thead>\n",
              "    <tr style=\"text-align: right;\">\n",
              "      <th></th>\n",
              "      <th>diacratized</th>\n",
              "      <th>text</th>\n",
              "    </tr>\n",
              "  </thead>\n",
              "  <tbody>\n",
              "    <tr>\n",
              "      <th>0</th>\n",
              "      <td>قَالَ وَإِنْ كَانَ فِيهَا شَيْءٌ بَارٌّ لَا يَجُوزُ فَإِنَّهُ حَانِثٌ قُلْتُ أَرَأَيْتَ إنْ حَلَفَ رَجُلٌ لِغَرِيمٍ لَهُ أَنْ لَا يُفَارِقَهُ حَتَّى يَسْتَوْفِيَ مِنْهُ حَقَّهُ فَأَخَذَ مِنْهُ حَقَّهُ فَلَمَّا افْتَرَقَا أَصَابَ بَعْضَهَا نُحَاسًا أَوْ رَصَاصًا أَوْ نَقْصًا بَيِّنٌ نُقْصَانُهَا أَيَحْنَثُ فِي قَوْلِ مَالِكٍ أَمْ لَا قَالَ هُوَ حَانِثٌ لِأَنِّي سَأَلْت مَالِكًا عَنْ الرَّجُلِ يَحْلِفُ بِطَلَاقِ امْرَأَتِهِ لَيَقْضِيَنَّهُ حَقَّهُ إلَى أَجَلٍ فَيَقْضِيه حَقَّهُ ثُمَّ يَذْهَبُ صَاحِبُ الْحَقِّ</td>\n",
              "      <td>قال وإن كان فيها شيء بار لا يجوز فإنه حانث قلت أرأيت إن حلف رجل لغريم له أن لا يفارقه حتى يستوفي منه حقه فأخذ منه حقه فلما افترقا أصاب بعضها نحاسا أو رصاصا أو نقصا بين نقصانها أيحنث في قول مالك أم لا قال هو حانث لأني سألت مالكا عن الرجل يحلف بطلاق امرأته ليقضينه حقه إلى أجل فيقضيه حقه ثم يذهب صاحب الحق</td>\n",
              "    </tr>\n",
              "    <tr>\n",
              "      <th>1</th>\n",
              "      <td>قِيَامِ الْمُسْتَحِقِّ فَقَالَ ابْنُ الْمَوَّازِ لَا شَيْءَ عَلَى الْمُشْتَرِي فِي قَوْلِ مَالِكٍ الَّذِي قَالَ فِيهِ يَأْخُذُ قِيمَتَهَا فَقَطْ إذَا وَجَدَهَا حَيَّةً وَهُوَ ثَالِثُ الْأَقْوَالِ وَكَلَامُ الْمُصَنِّفِ فِي الْوَلَدِ الَّذِي وُجِدَ حَيًّا وَأَمَّا لَوْ مَاتَ وَلَدُهَا حَتْفَ أَنْفِهِ قَبْلَ الِاسْتِحْقَاقِ فَلَا شَيْءَ فِيهِ وَأَمَّا لَوْ قُتِلَ عَمْدًا فَلَا شَيْءَ فِيهِ عَلَى الْأَبِ إنْ اُقْتُصَّ مِنْ قَاتِلِهِ أَوْ عُفِيَ عَنْهُ لَكِنْ لِلْمُسْتَحِقِّ الرُّجُوعُ عَلَى الْقَاتِلِ بِالْأَقَلِّ</td>\n",
              "      <td>قيام المستحق فقال ابن المواز لا شيء على المشتري في قول مالك الذي قال فيه يأخذ قيمتها فقط إذا وجدها حية وهو ثالث الأقوال وكلام المصنف في الولد الذي وجد حيا وأما لو مات ولدها حتف أنفه قبل الاستحقاق فلا شيء فيه وأما لو قتل عمدا فلا شيء فيه على الأب إن اقتص من قاتله أو عفي عنه لكن للمستحق الرجوع على القاتل بالأقل</td>\n",
              "    </tr>\n",
              "    <tr>\n",
              "      <th>2</th>\n",
              "      <td>فَقَدْ اجْتَهَدَ الْإِمَامُ الشَّافِعِيُّ وَالْإِمَامُ مُحَمَّدٌ وَالْإِمَامُ مَالِكٌ رَحِمَهُمْ اللَّهُ تَعَالَى بِعَدَمِ لُزُومِ قَبُولِ الْمُحَالِ عَلَيْهِ وَرِضَاهُ وَبِإِمْكَانِ عَقْدِ الْحَوَالَةِ بَيْنَ الْمُحِيلِ وَالْمُحَالِ لَهُ لِأَنَّ الْحَقَّ لِلْمُحِيلِ فَكَمَا أَنَّهُ مُقْتَدِرٌ عَلَى اسْتِيفَائِهِ بِذَاتِهِ فَهُوَ مُقْتَدِرٌ أَيْضًا عَلَى اسْتِيفَائِهِ بِوَاسِطَةِ غَيْرِهِ وَلَنَا أَنَّ الْحَوَالَةَ تُصْرَفُ عَلَى الْمُحَالِ عَلَيْهِ بِنَقْلِ الْحَقِّ إلَى ذِمَّتِهِ فَلَا يَتِمُّ إلَّا بِقَبُولِهِ</td>\n",
              "      <td>فقد اجتهد الإمام الشافعي والإمام محمد والإمام مالك رحمهم الله تعالى بعدم لزوم قبول المحال عليه ورضاه وبإمكان عقد الحوالة بين المحيل والمحال له لأن الحق للمحيل فكما أنه مقتدر على استيفائه بذاته فهو مقتدر أيضا على استيفائه بواسطة غيره ولنا أن الحوالة تصرف على المحال عليه بنقل الحق إلى ذمته فلا يتم إلا بقبوله</td>\n",
              "    </tr>\n",
              "    <tr>\n",
              "      <th>3</th>\n",
              "      <td>فِيمَنْ أَنْفَقَ عَلَى ضَالَّةٍ وَفِي الْوَصِيِّ يَرْهَنُ لِلْيَتِيمِ رَهْنًا مِنْ مَالِ الْيَتِيمِ قُلْتُ أَرَأَيْتَ الضَّالَّةَ أَلَيْسَ لَهُ مَا أَنْفَقَ عَلَيْهَا وَلَيْسَ لِصَاحِبِهَا أَنْ يَأْخُذَهَا حَتَّى يُعْطِيَهُ نَفَقَتَهَا فِي قَوْلِ مَالِكٍ وَيَكُونُ أَوْلَى بِهَا مِنْ الْغُرَمَاءِ حَتَّى يَقْبِضَ نَفَقَتَهُ وَقَدْ أَنْفَقَ بِغَيْرِ أَمْرِ رَبِّهَا فَلِمَ قَالَ مَالِكٌ فِي الضَّالَّةِ هُوَ أَوْلَى بِهَا وَفِي نَفَقَةِ الرَّاهِنِ لِمَ لَا يَكُونُ أَوْلَى بِهَا أَيْضًا قَالَ لِأَنَّ الضَّالَّةَ لَا</td>\n",
              "      <td>فيمن أنفق على ضالة وفي الوصي يرهن لليتيم رهنا من مال اليتيم قلت أرأيت الضالة أليس له ما أنفق عليها وليس لصاحبها أن يأخذها حتى يعطيه نفقتها في قول مالك ويكون أولى بها من الغرماء حتى يقبض نفقته وقد أنفق بغير أمر ربها فلم قال مالك في الضالة هو أولى بها وفي نفقة الراهن لم لا يكون أولى بها أيضا قال لأن الضالة لا</td>\n",
              "    </tr>\n",
              "    <tr>\n",
              "      <th>4</th>\n",
              "      <td>أَخْبَرَنَا أَبُو عَبْدِ اللَّهِ الْحَافِظُ أَخْبَرَنِى أَحْمَدُ بْنُ سَهْلٍ الْفَقِيهُ حَدَّثَنَا إِبْرَاهِيمُ بْنُ مَعْقِلٍ حَدَّثَنَا حَرْمَلَةُ حَدَّثَنَا ابْنُ وَهْبٍ حَدَّثَنِى مَالِكٌ أَنَّ أَبَانَ بْنَ عُثْمَانَ حِينَ وَلِىَ الْمَدِينَةَ فِى خِلاَفَةِ عَبْدِ الْمَلِكِ بْنِ مَرْوَانَ فَأَرَادَ أَنْ يَنْقُضَ مَا كَانَ عَبْدُ اللَّهِ بْنُ الزُّبَيْرِ قَضَى فِيهِ فَكَتَبَ أَبَانُ بْنُ عُثْمَانَ فِى ذَلِكَ إِلَى عَبْدِ الْمَلِكِ فَكَتَبَ إِلَيْهِ عَبْدُ الْمَلِكِ إِنَّا لَمْ نَنْقَمْ عَلَى ابْنِ الزُّبَيْرِ</td>\n",
              "      <td>أخبرنا أبو عبد الله الحافظ أخبرنى أحمد بن سهل الفقيه حدثنا إبراهيم بن معقل حدثنا حرملة حدثنا ابن وهب حدثنى مالك أن أبان بن عثمان حين ولى المدينة فى خلافة عبد الملك بن مروان فأراد أن ينقض ما كان عبد الله بن الزبير قضى فيه فكتب أبان بن عثمان فى ذلك إلى عبد الملك فكتب إليه عبد الملك إنا لم ننقم على ابن الزبير</td>\n",
              "    </tr>\n",
              "  </tbody>\n",
              "</table>\n",
              "</div>\n",
              "      <button class=\"colab-df-convert\" onclick=\"convertToInteractive('df-a0fcc7e7-de0d-4336-b2ec-3dad9115d709')\"\n",
              "              title=\"Convert this dataframe to an interactive table.\"\n",
              "              style=\"display:none;\">\n",
              "\n",
              "  <svg xmlns=\"http://www.w3.org/2000/svg\" height=\"24px\"viewBox=\"0 0 24 24\"\n",
              "       width=\"24px\">\n",
              "    <path d=\"M0 0h24v24H0V0z\" fill=\"none\"/>\n",
              "    <path d=\"M18.56 5.44l.94 2.06.94-2.06 2.06-.94-2.06-.94-.94-2.06-.94 2.06-2.06.94zm-11 1L8.5 8.5l.94-2.06 2.06-.94-2.06-.94L8.5 2.5l-.94 2.06-2.06.94zm10 10l.94 2.06.94-2.06 2.06-.94-2.06-.94-.94-2.06-.94 2.06-2.06.94z\"/><path d=\"M17.41 7.96l-1.37-1.37c-.4-.4-.92-.59-1.43-.59-.52 0-1.04.2-1.43.59L10.3 9.45l-7.72 7.72c-.78.78-.78 2.05 0 2.83L4 21.41c.39.39.9.59 1.41.59.51 0 1.02-.2 1.41-.59l7.78-7.78 2.81-2.81c.8-.78.8-2.07 0-2.86zM5.41 20L4 18.59l7.72-7.72 1.47 1.35L5.41 20z\"/>\n",
              "  </svg>\n",
              "      </button>\n",
              "\n",
              "\n",
              "\n",
              "    <div id=\"df-299ab25b-6a11-4eea-94c0-e92af6ca3263\">\n",
              "      <button class=\"colab-df-quickchart\" onclick=\"quickchart('df-299ab25b-6a11-4eea-94c0-e92af6ca3263')\"\n",
              "              title=\"Suggest charts.\"\n",
              "              style=\"display:none;\">\n",
              "\n",
              "<svg xmlns=\"http://www.w3.org/2000/svg\" height=\"24px\"viewBox=\"0 0 24 24\"\n",
              "     width=\"24px\">\n",
              "    <g>\n",
              "        <path d=\"M19 3H5c-1.1 0-2 .9-2 2v14c0 1.1.9 2 2 2h14c1.1 0 2-.9 2-2V5c0-1.1-.9-2-2-2zM9 17H7v-7h2v7zm4 0h-2V7h2v10zm4 0h-2v-4h2v4z\"/>\n",
              "    </g>\n",
              "</svg>\n",
              "      </button>\n",
              "    </div>\n",
              "\n",
              "<style>\n",
              "  .colab-df-quickchart {\n",
              "    background-color: #E8F0FE;\n",
              "    border: none;\n",
              "    border-radius: 50%;\n",
              "    cursor: pointer;\n",
              "    display: none;\n",
              "    fill: #1967D2;\n",
              "    height: 32px;\n",
              "    padding: 0 0 0 0;\n",
              "    width: 32px;\n",
              "  }\n",
              "\n",
              "  .colab-df-quickchart:hover {\n",
              "    background-color: #E2EBFA;\n",
              "    box-shadow: 0px 1px 2px rgba(60, 64, 67, 0.3), 0px 1px 3px 1px rgba(60, 64, 67, 0.15);\n",
              "    fill: #174EA6;\n",
              "  }\n",
              "\n",
              "  [theme=dark] .colab-df-quickchart {\n",
              "    background-color: #3B4455;\n",
              "    fill: #D2E3FC;\n",
              "  }\n",
              "\n",
              "  [theme=dark] .colab-df-quickchart:hover {\n",
              "    background-color: #434B5C;\n",
              "    box-shadow: 0px 1px 3px 1px rgba(0, 0, 0, 0.15);\n",
              "    filter: drop-shadow(0px 1px 2px rgba(0, 0, 0, 0.3));\n",
              "    fill: #FFFFFF;\n",
              "  }\n",
              "</style>\n",
              "\n",
              "    <script>\n",
              "      async function quickchart(key) {\n",
              "        const containerElement = document.querySelector('#' + key);\n",
              "        const charts = await google.colab.kernel.invokeFunction(\n",
              "            'suggestCharts', [key], {});\n",
              "      }\n",
              "    </script>\n",
              "\n",
              "      <script>\n",
              "\n",
              "function displayQuickchartButton(domScope) {\n",
              "  let quickchartButtonEl =\n",
              "    domScope.querySelector('#df-299ab25b-6a11-4eea-94c0-e92af6ca3263 button.colab-df-quickchart');\n",
              "  quickchartButtonEl.style.display =\n",
              "    google.colab.kernel.accessAllowed ? 'block' : 'none';\n",
              "}\n",
              "\n",
              "        displayQuickchartButton(document);\n",
              "      </script>\n",
              "      <style>\n",
              "    .colab-df-container {\n",
              "      display:flex;\n",
              "      flex-wrap:wrap;\n",
              "      gap: 12px;\n",
              "    }\n",
              "\n",
              "    .colab-df-convert {\n",
              "      background-color: #E8F0FE;\n",
              "      border: none;\n",
              "      border-radius: 50%;\n",
              "      cursor: pointer;\n",
              "      display: none;\n",
              "      fill: #1967D2;\n",
              "      height: 32px;\n",
              "      padding: 0 0 0 0;\n",
              "      width: 32px;\n",
              "    }\n",
              "\n",
              "    .colab-df-convert:hover {\n",
              "      background-color: #E2EBFA;\n",
              "      box-shadow: 0px 1px 2px rgba(60, 64, 67, 0.3), 0px 1px 3px 1px rgba(60, 64, 67, 0.15);\n",
              "      fill: #174EA6;\n",
              "    }\n",
              "\n",
              "    [theme=dark] .colab-df-convert {\n",
              "      background-color: #3B4455;\n",
              "      fill: #D2E3FC;\n",
              "    }\n",
              "\n",
              "    [theme=dark] .colab-df-convert:hover {\n",
              "      background-color: #434B5C;\n",
              "      box-shadow: 0px 1px 3px 1px rgba(0, 0, 0, 0.15);\n",
              "      filter: drop-shadow(0px 1px 2px rgba(0, 0, 0, 0.3));\n",
              "      fill: #FFFFFF;\n",
              "    }\n",
              "  </style>\n",
              "\n",
              "      <script>\n",
              "        const buttonEl =\n",
              "          document.querySelector('#df-a0fcc7e7-de0d-4336-b2ec-3dad9115d709 button.colab-df-convert');\n",
              "        buttonEl.style.display =\n",
              "          google.colab.kernel.accessAllowed ? 'block' : 'none';\n",
              "\n",
              "        async function convertToInteractive(key) {\n",
              "          const element = document.querySelector('#df-a0fcc7e7-de0d-4336-b2ec-3dad9115d709');\n",
              "          const dataTable =\n",
              "            await google.colab.kernel.invokeFunction('convertToInteractive',\n",
              "                                                     [key], {});\n",
              "          if (!dataTable) return;\n",
              "\n",
              "          const docLinkHtml = 'Like what you see? Visit the ' +\n",
              "            '<a target=\"_blank\" href=https://colab.research.google.com/notebooks/data_table.ipynb>data table notebook</a>'\n",
              "            + ' to learn more about interactive tables.';\n",
              "          element.innerHTML = '';\n",
              "          dataTable['output_type'] = 'display_data';\n",
              "          await google.colab.output.renderOutput(dataTable, element);\n",
              "          const docLink = document.createElement('div');\n",
              "          docLink.innerHTML = docLinkHtml;\n",
              "          element.appendChild(docLink);\n",
              "        }\n",
              "      </script>\n",
              "    </div>\n",
              "  </div>\n"
            ],
            "text/plain": [
              "                                                                                                                                                                                                                                                                                                                                                                                                                                                                                                                              diacratized  \\\n",
              "0        قَالَ وَإِنْ كَانَ فِيهَا شَيْءٌ بَارٌّ لَا يَجُوزُ فَإِنَّهُ حَانِثٌ قُلْتُ أَرَأَيْتَ إنْ حَلَفَ رَجُلٌ لِغَرِيمٍ لَهُ أَنْ لَا يُفَارِقَهُ حَتَّى يَسْتَوْفِيَ مِنْهُ حَقَّهُ فَأَخَذَ مِنْهُ حَقَّهُ فَلَمَّا افْتَرَقَا أَصَابَ بَعْضَهَا نُحَاسًا أَوْ رَصَاصًا أَوْ نَقْصًا بَيِّنٌ نُقْصَانُهَا أَيَحْنَثُ فِي قَوْلِ مَالِكٍ أَمْ لَا قَالَ هُوَ حَانِثٌ لِأَنِّي سَأَلْت مَالِكًا عَنْ الرَّجُلِ يَحْلِفُ بِطَلَاقِ امْرَأَتِهِ لَيَقْضِيَنَّهُ حَقَّهُ إلَى أَجَلٍ فَيَقْضِيه حَقَّهُ ثُمَّ يَذْهَبُ صَاحِبُ الْحَقِّ   \n",
              "1    قِيَامِ الْمُسْتَحِقِّ فَقَالَ ابْنُ الْمَوَّازِ لَا شَيْءَ عَلَى الْمُشْتَرِي فِي قَوْلِ مَالِكٍ الَّذِي قَالَ فِيهِ يَأْخُذُ قِيمَتَهَا فَقَطْ إذَا وَجَدَهَا حَيَّةً وَهُوَ ثَالِثُ الْأَقْوَالِ وَكَلَامُ الْمُصَنِّفِ فِي الْوَلَدِ الَّذِي وُجِدَ حَيًّا وَأَمَّا لَوْ مَاتَ وَلَدُهَا حَتْفَ أَنْفِهِ قَبْلَ الِاسْتِحْقَاقِ فَلَا شَيْءَ فِيهِ وَأَمَّا لَوْ قُتِلَ عَمْدًا فَلَا شَيْءَ فِيهِ عَلَى الْأَبِ إنْ اُقْتُصَّ مِنْ قَاتِلِهِ أَوْ عُفِيَ عَنْهُ لَكِنْ لِلْمُسْتَحِقِّ الرُّجُوعُ عَلَى الْقَاتِلِ بِالْأَقَلِّ   \n",
              "2  فَقَدْ اجْتَهَدَ الْإِمَامُ الشَّافِعِيُّ وَالْإِمَامُ مُحَمَّدٌ وَالْإِمَامُ مَالِكٌ رَحِمَهُمْ اللَّهُ تَعَالَى بِعَدَمِ لُزُومِ قَبُولِ الْمُحَالِ عَلَيْهِ وَرِضَاهُ وَبِإِمْكَانِ عَقْدِ الْحَوَالَةِ بَيْنَ الْمُحِيلِ وَالْمُحَالِ لَهُ لِأَنَّ الْحَقَّ لِلْمُحِيلِ فَكَمَا أَنَّهُ مُقْتَدِرٌ عَلَى اسْتِيفَائِهِ بِذَاتِهِ فَهُوَ مُقْتَدِرٌ أَيْضًا عَلَى اسْتِيفَائِهِ بِوَاسِطَةِ غَيْرِهِ وَلَنَا أَنَّ الْحَوَالَةَ تُصْرَفُ عَلَى الْمُحَالِ عَلَيْهِ بِنَقْلِ الْحَقِّ إلَى ذِمَّتِهِ فَلَا يَتِمُّ إلَّا بِقَبُولِهِ   \n",
              "3     فِيمَنْ أَنْفَقَ عَلَى ضَالَّةٍ وَفِي الْوَصِيِّ يَرْهَنُ لِلْيَتِيمِ رَهْنًا مِنْ مَالِ الْيَتِيمِ قُلْتُ أَرَأَيْتَ الضَّالَّةَ أَلَيْسَ لَهُ مَا أَنْفَقَ عَلَيْهَا وَلَيْسَ لِصَاحِبِهَا أَنْ يَأْخُذَهَا حَتَّى يُعْطِيَهُ نَفَقَتَهَا فِي قَوْلِ مَالِكٍ وَيَكُونُ أَوْلَى بِهَا مِنْ الْغُرَمَاءِ حَتَّى يَقْبِضَ نَفَقَتَهُ وَقَدْ أَنْفَقَ بِغَيْرِ أَمْرِ رَبِّهَا فَلِمَ قَالَ مَالِكٌ فِي الضَّالَّةِ هُوَ أَوْلَى بِهَا وَفِي نَفَقَةِ الرَّاهِنِ لِمَ لَا يَكُونُ أَوْلَى بِهَا أَيْضًا قَالَ لِأَنَّ الضَّالَّةَ لَا   \n",
              "4     أَخْبَرَنَا أَبُو عَبْدِ اللَّهِ الْحَافِظُ أَخْبَرَنِى أَحْمَدُ بْنُ سَهْلٍ الْفَقِيهُ حَدَّثَنَا إِبْرَاهِيمُ بْنُ مَعْقِلٍ حَدَّثَنَا حَرْمَلَةُ حَدَّثَنَا ابْنُ وَهْبٍ حَدَّثَنِى مَالِكٌ أَنَّ أَبَانَ بْنَ عُثْمَانَ حِينَ وَلِىَ الْمَدِينَةَ فِى خِلاَفَةِ عَبْدِ الْمَلِكِ بْنِ مَرْوَانَ فَأَرَادَ أَنْ يَنْقُضَ مَا كَانَ عَبْدُ اللَّهِ بْنُ الزُّبَيْرِ قَضَى فِيهِ فَكَتَبَ أَبَانُ بْنُ عُثْمَانَ فِى ذَلِكَ إِلَى عَبْدِ الْمَلِكِ فَكَتَبَ إِلَيْهِ عَبْدُ الْمَلِكِ إِنَّا لَمْ نَنْقَمْ عَلَى ابْنِ الزُّبَيْرِ   \n",
              "\n",
              "                                                                                                                                                                                                                                                                                                                     text  \n",
              "0         قال وإن كان فيها شيء بار لا يجوز فإنه حانث قلت أرأيت إن حلف رجل لغريم له أن لا يفارقه حتى يستوفي منه حقه فأخذ منه حقه فلما افترقا أصاب بعضها نحاسا أو رصاصا أو نقصا بين نقصانها أيحنث في قول مالك أم لا قال هو حانث لأني سألت مالكا عن الرجل يحلف بطلاق امرأته ليقضينه حقه إلى أجل فيقضيه حقه ثم يذهب صاحب الحق  \n",
              "1  قيام المستحق فقال ابن المواز لا شيء على المشتري في قول مالك الذي قال فيه يأخذ قيمتها فقط إذا وجدها حية وهو ثالث الأقوال وكلام المصنف في الولد الذي وجد حيا وأما لو مات ولدها حتف أنفه قبل الاستحقاق فلا شيء فيه وأما لو قتل عمدا فلا شيء فيه على الأب إن اقتص من قاتله أو عفي عنه لكن للمستحق الرجوع على القاتل بالأقل  \n",
              "2     فقد اجتهد الإمام الشافعي والإمام محمد والإمام مالك رحمهم الله تعالى بعدم لزوم قبول المحال عليه ورضاه وبإمكان عقد الحوالة بين المحيل والمحال له لأن الحق للمحيل فكما أنه مقتدر على استيفائه بذاته فهو مقتدر أيضا على استيفائه بواسطة غيره ولنا أن الحوالة تصرف على المحال عليه بنقل الحق إلى ذمته فلا يتم إلا بقبوله  \n",
              "3    فيمن أنفق على ضالة وفي الوصي يرهن لليتيم رهنا من مال اليتيم قلت أرأيت الضالة أليس له ما أنفق عليها وليس لصاحبها أن يأخذها حتى يعطيه نفقتها في قول مالك ويكون أولى بها من الغرماء حتى يقبض نفقته وقد أنفق بغير أمر ربها فلم قال مالك في الضالة هو أولى بها وفي نفقة الراهن لم لا يكون أولى بها أيضا قال لأن الضالة لا  \n",
              "4     أخبرنا أبو عبد الله الحافظ أخبرنى أحمد بن سهل الفقيه حدثنا إبراهيم بن معقل حدثنا حرملة حدثنا ابن وهب حدثنى مالك أن أبان بن عثمان حين ولى المدينة فى خلافة عبد الملك بن مروان فأراد أن ينقض ما كان عبد الله بن الزبير قضى فيه فكتب أبان بن عثمان فى ذلك إلى عبد الملك فكتب إليه عبد الملك إنا لم ننقم على ابن الزبير  "
            ]
          },
          "execution_count": 18,
          "metadata": {},
          "output_type": "execute_result"
        }
      ],
      "source": [
        "test.head()"
      ]
    },
    {
      "cell_type": "code",
      "execution_count": 19,
      "id": "b31a3938",
      "metadata": {
        "colab": {
          "base_uri": "https://localhost:8080/",
          "height": 458
        },
        "id": "b31a3938",
        "outputId": "a99c4e08-313d-48c0-8bf9-d0f6ef879ce6"
      },
      "outputs": [
        {
          "data": {
            "text/html": [
              "\n",
              "\n",
              "  <div id=\"df-2a0f3b5b-66e3-485b-a936-ad10eeb6c4c5\">\n",
              "    <div class=\"colab-df-container\">\n",
              "      <div>\n",
              "<style scoped>\n",
              "    .dataframe tbody tr th:only-of-type {\n",
              "        vertical-align: middle;\n",
              "    }\n",
              "\n",
              "    .dataframe tbody tr th {\n",
              "        vertical-align: top;\n",
              "    }\n",
              "\n",
              "    .dataframe thead th {\n",
              "        text-align: right;\n",
              "    }\n",
              "</style>\n",
              "<table border=\"1\" class=\"dataframe\">\n",
              "  <thead>\n",
              "    <tr style=\"text-align: right;\">\n",
              "      <th></th>\n",
              "      <th>diacratized</th>\n",
              "      <th>text</th>\n",
              "    </tr>\n",
              "  </thead>\n",
              "  <tbody>\n",
              "    <tr>\n",
              "      <th>58047</th>\n",
              "      <td>أَنَّ مَا نَقَلَهُ الشَّارِحُ أَوَّلًا عَنْ الْفَتْحِ مِنْ أَنَّ الصَّرِيحَ مَا لَا يَحْتَاجُ إلَى نِيَّةٍ بَائِنًا كَانَ الْوَاقِعُ بِهِ أَوْ رَجْعِيًّا خَاصٌّ بِالصَّرِيحِ فِي الْجُمْلَةِ الْأُولَى أَعْنِي قَوْلَهُمْ الصَّرِيحُ يَلْحَقُ الصَّرِيحَ وَالْبَائِنَ كَمَا دَلَّ عَلَيْهِ كَلَامُ الْفَتْحِ الَّذِي ذَكَرْنَاهُ هُنَا وَيَدُلُّ عَلَيْهِ أَيْضًا أُمُورٌ مِنْهَا مَا أَطْبَقُوا عَلَيْهِ مِنْ تَعْلِيلِهِمْ عَدَمَ لُحُوقِ الْبَائِنِ الْبَائِنَ بِإِمْكَانِ جَعْلِ الثَّانِي خَبَرًا عَنْ الْأَوَّلِ وَلَا يَخْفَى</td>\n",
              "      <td>أن ما نقله الشارح أولا عن الفتح من أن الصريح ما لا يحتاج إلى نية بائنا كان الواقع به أو رجعيا خاص بالصريح في الجملة الأولى أعني قولهم الصريح يلحق الصريح والبائن كما دل عليه كلام الفتح الذي ذكرناه هنا ويدل عليه أيضا أمور منها ما أطبقوا عليه من تعليلهم عدم لحوق البائن البائن بإمكان جعل الثاني خبرا عن الأول ولا يخفى</td>\n",
              "    </tr>\n",
              "    <tr>\n",
              "      <th>58048</th>\n",
              "      <td>مَنْ يَدْخُلُ الْجَنَّةَ يَوْمَ الْقِيَامَةِ وَلَا فَخْرَ وَإِنِّي آتِي بَابَ الْجَنَّةِ فَآخُذُ بِحَلْقَتِهَا فَيَقُولُونَ مَنْ هَذَا فَيَقُولُ أَنَا مُحَمَّدٌ فَيَفْتَحُونَ لِي فَأَدْخُلُ فَإِذَا الْجَبَّارُ عَزَّ وَجَلَّ مُسْتَقْبِلِي فَأَسْجُدُ لَهُ فَيَقُولُ ارْفَعْ رَأْسَكَ يَا مُحَمَّدُ وَتَكَلَّمْ يُسْمَعْ مِنْكَ وَقُلْ يُقْبَلْ مِنْكَ وَاشْفَعْ تُشَفَّعْ فَأَرْفَعُ رَأْسِي فَأَقُولُ أُمَّتِي أُمَّتِي يَا رَبِّ فَيَقُولُ اذْهَبْ إِلَى أُمَّتِكَ فَمَنْ وَجَدْتَ فِي قَلْبِهِ مِثْقَالَ حَبَّةٍ مِنْ شَعِيرٍ</td>\n",
              "      <td>من يدخل الجنة يوم القيامة ولا فخر وإني آتي باب الجنة فآخذ بحلقتها فيقولون من هذا فيقول أنا محمد فيفتحون لي فأدخل فإذا الجبار عز وجل مستقبلي فأسجد له فيقول ارفع رأسك يا محمد وتكلم يسمع منك وقل يقبل منك واشفع تشفع فأرفع رأسي فأقول أمتي أمتي يا رب فيقول اذهب إلى أمتك فمن وجدت في قلبه مثقال حبة من شعير</td>\n",
              "    </tr>\n",
              "    <tr>\n",
              "      <th>58049</th>\n",
              "      <td>فَإِنْ احْتَجَمَ فَظَنَّ أَنَّ ذَلِكَ يُفْطِرُهُ فَأَكَلَ بَعْدَ ذَلِكَ مُتَعَمِّدًا إنْ اسْتَفْتَى فَقِيهًا فَأَفْتَاهُ بِأَنَّهُ قَدْ أَفْطَرَ فَلَا كَفَّارَةَ عَلَيْهِ لِأَنَّ الْعَامِّيَّ يَلْزَمُهُ تَقْلِيدُ الْعَالِمِ فَكَانَتْ الشُّبْهَةُ مُسْتَنِدَةً إلَى صُورَةِ دَلِيلٍ وَإِنْ بَلَغَهُ خَبَرُ الْحِجَامَةِ وَهُوَ الْمَرْوِيُّ عَنْ رَسُولِ اللَّهِ صَلَّى اللَّهُ عَلَيْهِ وَسَلَّمَ أَفْطَرَ الْحَاجِمُ وَالْمَحْجُومُ رَوَى الْحَسَنُ عَنْ أَبِي حَنِيفَةَ أَنَّهُ لَا كَفَّارَةَ عَلَيْهِ لِأَنَّ ظَاهِرَ الْحَدِيثِ</td>\n",
              "      <td>فإن احتجم فظن أن ذلك يفطره فأكل بعد ذلك متعمدا إن استفتى فقيها فأفتاه بأنه قد أفطر فلا كفارة عليه لأن العامي يلزمه تقليد العالم فكانت الشبهة مستندة إلى صورة دليل وإن بلغه خبر الحجامة وهو المروي عن رسول الله صلى الله عليه وسلم أفطر الحاجم والمحجوم روى الحسن عن أبي حنيفة أنه لا كفارة عليه لأن ظاهر الحديث</td>\n",
              "    </tr>\n",
              "    <tr>\n",
              "      <th>58050</th>\n",
              "      <td>الْقَاعِدَتَيْنِ وَذَلِكَ أَنَّ الْقَائِلَ الْأَوَّلَ يَقُولُ غُرُوبُ الشَّمْسِ مِنْ يَوْمِ الصَّوْمِ سَبَبٌ وَمَا بَعْدَهُ ظَرْفٌ لِلتَّكْلِيفِ فَقَطْ وَلَا يَكُونُ شَيْءٌ مِنْ أَجْزَاءِ هَذَا الزَّمَانِ سَبَبًا لِلتَّكْلِيفِ وَالْقَائِلُ الرَّابِعُ يَقُولُ كُلُّ جُزْءٍ مِنْ أَجْزَاءِ هَذَا الزَّمَانِ مِنْ الْغُرُوبِ إلَى الْغُرُوبِ ظَرْفٌ لِلتَّكْلِيفِ وَسَبَبٌ لَهُ فَقَدْ اشْتَرَكَا فِي التَّوْسِعَةِ لَكِنْ تَوْسِعَةُ الْأَوَّلِ كَتَوْسِعَةِ قَضَاءِ رَمَضَانَ وَتَوْسِعَةُ الثَّانِي كَتَوْسِعَةِ صَلَاةِ الظُّهْرِ</td>\n",
              "      <td>القاعدتين وذلك أن القائل الأول يقول غروب الشمس من يوم الصوم سبب وما بعده ظرف للتكليف فقط ولا يكون شيء من أجزاء هذا الزمان سببا للتكليف والقائل الرابع يقول كل جزء من أجزاء هذا الزمان من الغروب إلى الغروب ظرف للتكليف وسبب له فقد اشتركا في التوسعة لكن توسعة الأول كتوسعة قضاء رمضان وتوسعة الثاني كتوسعة صلاة الظهر</td>\n",
              "    </tr>\n",
              "    <tr>\n",
              "      <th>58051</th>\n",
              "      <td>الْآيَةُ الْخَامِسَةُ وَالسِّتُّونَ قَوْله تَعَالَى لِلَّذِينَ يُؤْلُونَ مِنْ نِسَائِهِمْ تَرَبُّصُ أَرْبَعَةِ أَشْهُرٍ فَإِنْ فَاءُوا فَإِنَّ اللَّهَ غَفُورٌ رَحِيمٌ وَإِنْ عَزَمُوا الطَّلَاقَ فَإِنَّ اللَّهَ سَمِيعٌ عَلِيمٌ فِيهَا سِتَّ عَشْرَةَ مَسْأَلَةً الْمَسْأَلَةُ الْأُولَى فِي سَبَبِ نُزُولِهَا وَهِيَ آيَةٌ عَظِيمَةُ الْمَوْقِعِ جِدًّا يَتَرَتَّبُ عَلَيْهَا حُكْمٌ كَبِيرٌ اخْتَلَفَ فِيهِ الصَّحَابَةُ وَالتَّابِعُونَ وَفُقَهَاءُ الْأَمْصَارِ وَدَقَّتْ مَدَارِكُهَا حَسْبَمَا تَرَوْنَهَا مِنْ جُمْلَتِهَا</td>\n",
              "      <td>الآية الخامسة والستون قوله تعالى للذين يؤلون من نسائهم تربص أربعة أشهر فإن فاءوا فإن الله غفور رحيم وإن عزموا الطلاق فإن الله سميع عليم فيها ست عشرة مسألة المسألة الأولى في سبب نزولها وهي آية عظيمة الموقع جدا يترتب عليها حكم كبير اختلف فيه الصحابة والتابعون وفقهاء الأمصار ودقت مداركها حسبما ترونها من جملتها</td>\n",
              "    </tr>\n",
              "  </tbody>\n",
              "</table>\n",
              "</div>\n",
              "      <button class=\"colab-df-convert\" onclick=\"convertToInteractive('df-2a0f3b5b-66e3-485b-a936-ad10eeb6c4c5')\"\n",
              "              title=\"Convert this dataframe to an interactive table.\"\n",
              "              style=\"display:none;\">\n",
              "\n",
              "  <svg xmlns=\"http://www.w3.org/2000/svg\" height=\"24px\"viewBox=\"0 0 24 24\"\n",
              "       width=\"24px\">\n",
              "    <path d=\"M0 0h24v24H0V0z\" fill=\"none\"/>\n",
              "    <path d=\"M18.56 5.44l.94 2.06.94-2.06 2.06-.94-2.06-.94-.94-2.06-.94 2.06-2.06.94zm-11 1L8.5 8.5l.94-2.06 2.06-.94-2.06-.94L8.5 2.5l-.94 2.06-2.06.94zm10 10l.94 2.06.94-2.06 2.06-.94-2.06-.94-.94-2.06-.94 2.06-2.06.94z\"/><path d=\"M17.41 7.96l-1.37-1.37c-.4-.4-.92-.59-1.43-.59-.52 0-1.04.2-1.43.59L10.3 9.45l-7.72 7.72c-.78.78-.78 2.05 0 2.83L4 21.41c.39.39.9.59 1.41.59.51 0 1.02-.2 1.41-.59l7.78-7.78 2.81-2.81c.8-.78.8-2.07 0-2.86zM5.41 20L4 18.59l7.72-7.72 1.47 1.35L5.41 20z\"/>\n",
              "  </svg>\n",
              "      </button>\n",
              "\n",
              "\n",
              "\n",
              "    <div id=\"df-e609c2b1-f010-4f34-9709-f4a539c18066\">\n",
              "      <button class=\"colab-df-quickchart\" onclick=\"quickchart('df-e609c2b1-f010-4f34-9709-f4a539c18066')\"\n",
              "              title=\"Suggest charts.\"\n",
              "              style=\"display:none;\">\n",
              "\n",
              "<svg xmlns=\"http://www.w3.org/2000/svg\" height=\"24px\"viewBox=\"0 0 24 24\"\n",
              "     width=\"24px\">\n",
              "    <g>\n",
              "        <path d=\"M19 3H5c-1.1 0-2 .9-2 2v14c0 1.1.9 2 2 2h14c1.1 0 2-.9 2-2V5c0-1.1-.9-2-2-2zM9 17H7v-7h2v7zm4 0h-2V7h2v10zm4 0h-2v-4h2v4z\"/>\n",
              "    </g>\n",
              "</svg>\n",
              "      </button>\n",
              "    </div>\n",
              "\n",
              "<style>\n",
              "  .colab-df-quickchart {\n",
              "    background-color: #E8F0FE;\n",
              "    border: none;\n",
              "    border-radius: 50%;\n",
              "    cursor: pointer;\n",
              "    display: none;\n",
              "    fill: #1967D2;\n",
              "    height: 32px;\n",
              "    padding: 0 0 0 0;\n",
              "    width: 32px;\n",
              "  }\n",
              "\n",
              "  .colab-df-quickchart:hover {\n",
              "    background-color: #E2EBFA;\n",
              "    box-shadow: 0px 1px 2px rgba(60, 64, 67, 0.3), 0px 1px 3px 1px rgba(60, 64, 67, 0.15);\n",
              "    fill: #174EA6;\n",
              "  }\n",
              "\n",
              "  [theme=dark] .colab-df-quickchart {\n",
              "    background-color: #3B4455;\n",
              "    fill: #D2E3FC;\n",
              "  }\n",
              "\n",
              "  [theme=dark] .colab-df-quickchart:hover {\n",
              "    background-color: #434B5C;\n",
              "    box-shadow: 0px 1px 3px 1px rgba(0, 0, 0, 0.15);\n",
              "    filter: drop-shadow(0px 1px 2px rgba(0, 0, 0, 0.3));\n",
              "    fill: #FFFFFF;\n",
              "  }\n",
              "</style>\n",
              "\n",
              "    <script>\n",
              "      async function quickchart(key) {\n",
              "        const containerElement = document.querySelector('#' + key);\n",
              "        const charts = await google.colab.kernel.invokeFunction(\n",
              "            'suggestCharts', [key], {});\n",
              "      }\n",
              "    </script>\n",
              "\n",
              "      <script>\n",
              "\n",
              "function displayQuickchartButton(domScope) {\n",
              "  let quickchartButtonEl =\n",
              "    domScope.querySelector('#df-e609c2b1-f010-4f34-9709-f4a539c18066 button.colab-df-quickchart');\n",
              "  quickchartButtonEl.style.display =\n",
              "    google.colab.kernel.accessAllowed ? 'block' : 'none';\n",
              "}\n",
              "\n",
              "        displayQuickchartButton(document);\n",
              "      </script>\n",
              "      <style>\n",
              "    .colab-df-container {\n",
              "      display:flex;\n",
              "      flex-wrap:wrap;\n",
              "      gap: 12px;\n",
              "    }\n",
              "\n",
              "    .colab-df-convert {\n",
              "      background-color: #E8F0FE;\n",
              "      border: none;\n",
              "      border-radius: 50%;\n",
              "      cursor: pointer;\n",
              "      display: none;\n",
              "      fill: #1967D2;\n",
              "      height: 32px;\n",
              "      padding: 0 0 0 0;\n",
              "      width: 32px;\n",
              "    }\n",
              "\n",
              "    .colab-df-convert:hover {\n",
              "      background-color: #E2EBFA;\n",
              "      box-shadow: 0px 1px 2px rgba(60, 64, 67, 0.3), 0px 1px 3px 1px rgba(60, 64, 67, 0.15);\n",
              "      fill: #174EA6;\n",
              "    }\n",
              "\n",
              "    [theme=dark] .colab-df-convert {\n",
              "      background-color: #3B4455;\n",
              "      fill: #D2E3FC;\n",
              "    }\n",
              "\n",
              "    [theme=dark] .colab-df-convert:hover {\n",
              "      background-color: #434B5C;\n",
              "      box-shadow: 0px 1px 3px 1px rgba(0, 0, 0, 0.15);\n",
              "      filter: drop-shadow(0px 1px 2px rgba(0, 0, 0, 0.3));\n",
              "      fill: #FFFFFF;\n",
              "    }\n",
              "  </style>\n",
              "\n",
              "      <script>\n",
              "        const buttonEl =\n",
              "          document.querySelector('#df-2a0f3b5b-66e3-485b-a936-ad10eeb6c4c5 button.colab-df-convert');\n",
              "        buttonEl.style.display =\n",
              "          google.colab.kernel.accessAllowed ? 'block' : 'none';\n",
              "\n",
              "        async function convertToInteractive(key) {\n",
              "          const element = document.querySelector('#df-2a0f3b5b-66e3-485b-a936-ad10eeb6c4c5');\n",
              "          const dataTable =\n",
              "            await google.colab.kernel.invokeFunction('convertToInteractive',\n",
              "                                                     [key], {});\n",
              "          if (!dataTable) return;\n",
              "\n",
              "          const docLinkHtml = 'Like what you see? Visit the ' +\n",
              "            '<a target=\"_blank\" href=https://colab.research.google.com/notebooks/data_table.ipynb>data table notebook</a>'\n",
              "            + ' to learn more about interactive tables.';\n",
              "          element.innerHTML = '';\n",
              "          dataTable['output_type'] = 'display_data';\n",
              "          await google.colab.output.renderOutput(dataTable, element);\n",
              "          const docLink = document.createElement('div');\n",
              "          docLink.innerHTML = docLinkHtml;\n",
              "          element.appendChild(docLink);\n",
              "        }\n",
              "      </script>\n",
              "    </div>\n",
              "  </div>\n"
            ],
            "text/plain": [
              "                                                                                                                                                                                                                                                                                                                                                                                                                                                                                                                                     diacratized  \\\n",
              "58047      أَنَّ مَا نَقَلَهُ الشَّارِحُ أَوَّلًا عَنْ الْفَتْحِ مِنْ أَنَّ الصَّرِيحَ مَا لَا يَحْتَاجُ إلَى نِيَّةٍ بَائِنًا كَانَ الْوَاقِعُ بِهِ أَوْ رَجْعِيًّا خَاصٌّ بِالصَّرِيحِ فِي الْجُمْلَةِ الْأُولَى أَعْنِي قَوْلَهُمْ الصَّرِيحُ يَلْحَقُ الصَّرِيحَ وَالْبَائِنَ كَمَا دَلَّ عَلَيْهِ كَلَامُ الْفَتْحِ الَّذِي ذَكَرْنَاهُ هُنَا وَيَدُلُّ عَلَيْهِ أَيْضًا أُمُورٌ مِنْهَا مَا أَطْبَقُوا عَلَيْهِ مِنْ تَعْلِيلِهِمْ عَدَمَ لُحُوقِ الْبَائِنِ الْبَائِنَ بِإِمْكَانِ جَعْلِ الثَّانِي خَبَرًا عَنْ الْأَوَّلِ وَلَا يَخْفَى   \n",
              "58048       مَنْ يَدْخُلُ الْجَنَّةَ يَوْمَ الْقِيَامَةِ وَلَا فَخْرَ وَإِنِّي آتِي بَابَ الْجَنَّةِ فَآخُذُ بِحَلْقَتِهَا فَيَقُولُونَ مَنْ هَذَا فَيَقُولُ أَنَا مُحَمَّدٌ فَيَفْتَحُونَ لِي فَأَدْخُلُ فَإِذَا الْجَبَّارُ عَزَّ وَجَلَّ مُسْتَقْبِلِي فَأَسْجُدُ لَهُ فَيَقُولُ ارْفَعْ رَأْسَكَ يَا مُحَمَّدُ وَتَكَلَّمْ يُسْمَعْ مِنْكَ وَقُلْ يُقْبَلْ مِنْكَ وَاشْفَعْ تُشَفَّعْ فَأَرْفَعُ رَأْسِي فَأَقُولُ أُمَّتِي أُمَّتِي يَا رَبِّ فَيَقُولُ اذْهَبْ إِلَى أُمَّتِكَ فَمَنْ وَجَدْتَ فِي قَلْبِهِ مِثْقَالَ حَبَّةٍ مِنْ شَعِيرٍ   \n",
              "58049  فَإِنْ احْتَجَمَ فَظَنَّ أَنَّ ذَلِكَ يُفْطِرُهُ فَأَكَلَ بَعْدَ ذَلِكَ مُتَعَمِّدًا إنْ اسْتَفْتَى فَقِيهًا فَأَفْتَاهُ بِأَنَّهُ قَدْ أَفْطَرَ فَلَا كَفَّارَةَ عَلَيْهِ لِأَنَّ الْعَامِّيَّ يَلْزَمُهُ تَقْلِيدُ الْعَالِمِ فَكَانَتْ الشُّبْهَةُ مُسْتَنِدَةً إلَى صُورَةِ دَلِيلٍ وَإِنْ بَلَغَهُ خَبَرُ الْحِجَامَةِ وَهُوَ الْمَرْوِيُّ عَنْ رَسُولِ اللَّهِ صَلَّى اللَّهُ عَلَيْهِ وَسَلَّمَ أَفْطَرَ الْحَاجِمُ وَالْمَحْجُومُ رَوَى الْحَسَنُ عَنْ أَبِي حَنِيفَةَ أَنَّهُ لَا كَفَّارَةَ عَلَيْهِ لِأَنَّ ظَاهِرَ الْحَدِيثِ   \n",
              "58050   الْقَاعِدَتَيْنِ وَذَلِكَ أَنَّ الْقَائِلَ الْأَوَّلَ يَقُولُ غُرُوبُ الشَّمْسِ مِنْ يَوْمِ الصَّوْمِ سَبَبٌ وَمَا بَعْدَهُ ظَرْفٌ لِلتَّكْلِيفِ فَقَطْ وَلَا يَكُونُ شَيْءٌ مِنْ أَجْزَاءِ هَذَا الزَّمَانِ سَبَبًا لِلتَّكْلِيفِ وَالْقَائِلُ الرَّابِعُ يَقُولُ كُلُّ جُزْءٍ مِنْ أَجْزَاءِ هَذَا الزَّمَانِ مِنْ الْغُرُوبِ إلَى الْغُرُوبِ ظَرْفٌ لِلتَّكْلِيفِ وَسَبَبٌ لَهُ فَقَدْ اشْتَرَكَا فِي التَّوْسِعَةِ لَكِنْ تَوْسِعَةُ الْأَوَّلِ كَتَوْسِعَةِ قَضَاءِ رَمَضَانَ وَتَوْسِعَةُ الثَّانِي كَتَوْسِعَةِ صَلَاةِ الظُّهْرِ   \n",
              "58051        الْآيَةُ الْخَامِسَةُ وَالسِّتُّونَ قَوْله تَعَالَى لِلَّذِينَ يُؤْلُونَ مِنْ نِسَائِهِمْ تَرَبُّصُ أَرْبَعَةِ أَشْهُرٍ فَإِنْ فَاءُوا فَإِنَّ اللَّهَ غَفُورٌ رَحِيمٌ وَإِنْ عَزَمُوا الطَّلَاقَ فَإِنَّ اللَّهَ سَمِيعٌ عَلِيمٌ فِيهَا سِتَّ عَشْرَةَ مَسْأَلَةً الْمَسْأَلَةُ الْأُولَى فِي سَبَبِ نُزُولِهَا وَهِيَ آيَةٌ عَظِيمَةُ الْمَوْقِعِ جِدًّا يَتَرَتَّبُ عَلَيْهَا حُكْمٌ كَبِيرٌ اخْتَلَفَ فِيهِ الصَّحَابَةُ وَالتَّابِعُونَ وَفُقَهَاءُ الْأَمْصَارِ وَدَقَّتْ مَدَارِكُهَا حَسْبَمَا تَرَوْنَهَا مِنْ جُمْلَتِهَا   \n",
              "\n",
              "                                                                                                                                                                                                                                                                                                                             text  \n",
              "58047  أن ما نقله الشارح أولا عن الفتح من أن الصريح ما لا يحتاج إلى نية بائنا كان الواقع به أو رجعيا خاص بالصريح في الجملة الأولى أعني قولهم الصريح يلحق الصريح والبائن كما دل عليه كلام الفتح الذي ذكرناه هنا ويدل عليه أيضا أمور منها ما أطبقوا عليه من تعليلهم عدم لحوق البائن البائن بإمكان جعل الثاني خبرا عن الأول ولا يخفى  \n",
              "58048                 من يدخل الجنة يوم القيامة ولا فخر وإني آتي باب الجنة فآخذ بحلقتها فيقولون من هذا فيقول أنا محمد فيفتحون لي فأدخل فإذا الجبار عز وجل مستقبلي فأسجد له فيقول ارفع رأسك يا محمد وتكلم يسمع منك وقل يقبل منك واشفع تشفع فأرفع رأسي فأقول أمتي أمتي يا رب فيقول اذهب إلى أمتك فمن وجدت في قلبه مثقال حبة من شعير  \n",
              "58049             فإن احتجم فظن أن ذلك يفطره فأكل بعد ذلك متعمدا إن استفتى فقيها فأفتاه بأنه قد أفطر فلا كفارة عليه لأن العامي يلزمه تقليد العالم فكانت الشبهة مستندة إلى صورة دليل وإن بلغه خبر الحجامة وهو المروي عن رسول الله صلى الله عليه وسلم أفطر الحاجم والمحجوم روى الحسن عن أبي حنيفة أنه لا كفارة عليه لأن ظاهر الحديث  \n",
              "58050      القاعدتين وذلك أن القائل الأول يقول غروب الشمس من يوم الصوم سبب وما بعده ظرف للتكليف فقط ولا يكون شيء من أجزاء هذا الزمان سببا للتكليف والقائل الرابع يقول كل جزء من أجزاء هذا الزمان من الغروب إلى الغروب ظرف للتكليف وسبب له فقد اشتركا في التوسعة لكن توسعة الأول كتوسعة قضاء رمضان وتوسعة الثاني كتوسعة صلاة الظهر  \n",
              "58051        الآية الخامسة والستون قوله تعالى للذين يؤلون من نسائهم تربص أربعة أشهر فإن فاءوا فإن الله غفور رحيم وإن عزموا الطلاق فإن الله سميع عليم فيها ست عشرة مسألة المسألة الأولى في سبب نزولها وهي آية عظيمة الموقع جدا يترتب عليها حكم كبير اختلف فيه الصحابة والتابعون وفقهاء الأمصار ودقت مداركها حسبما ترونها من جملتها  "
            ]
          },
          "execution_count": 19,
          "metadata": {},
          "output_type": "execute_result"
        }
      ],
      "source": [
        "test.tail()"
      ]
    },
    {
      "cell_type": "code",
      "execution_count": 20,
      "id": "08f47af6",
      "metadata": {
        "colab": {
          "base_uri": "https://localhost:8080/"
        },
        "id": "08f47af6",
        "outputId": "ca7d404a-c809-404b-d17e-b56bddc3d27f"
      },
      "outputs": [
        {
          "data": {
            "text/plain": [
              "58052"
            ]
          },
          "execution_count": 20,
          "metadata": {},
          "output_type": "execute_result"
        }
      ],
      "source": [
        "# Checking Length of diacratized text column in dataFrame\n",
        "diacritic_test = test['diacratized']\n",
        "len(diacritic_test)"
      ]
    },
    {
      "cell_type": "markdown",
      "id": "5bb0a243",
      "metadata": {
        "id": "5bb0a243"
      },
      "source": [
        "# Data Cleaning & Preprocessing"
      ]
    },
    {
      "cell_type": "code",
      "execution_count": 21,
      "id": "NmbuBuyfwTVr",
      "metadata": {
        "id": "NmbuBuyfwTVr"
      },
      "outputs": [],
      "source": [
        "# import inspect\n",
        "# # se inspect.getsource to view the source code of the function\n",
        "# source_code = inspect.getsource(data_wrangling)\n",
        "# print(source_code)"
      ]
    },
    {
      "cell_type": "markdown",
      "id": "0f0de781",
      "metadata": {
        "id": "0f0de781"
      },
      "source": [
        "# Wrangling and Retrieve Cleaned Train DataFrame"
      ]
    },
    {
      "cell_type": "code",
      "execution_count": 22,
      "id": "ab66cfc0",
      "metadata": {
        "id": "ab66cfc0"
      },
      "outputs": [],
      "source": [
        "train['diacratized']  = train['diacratized'].apply(data_wrangling)"
      ]
    },
    {
      "cell_type": "markdown",
      "id": "d25f420a",
      "metadata": {
        "id": "d25f420a"
      },
      "source": [
        "# Wrangling and Retrieve Cleaned Test DataFrame"
      ]
    },
    {
      "cell_type": "code",
      "execution_count": 23,
      "id": "408b32e8",
      "metadata": {
        "id": "408b32e8"
      },
      "outputs": [],
      "source": [
        "test['diacratized']  = test['diacratized'].apply(data_wrangling)"
      ]
    },
    {
      "cell_type": "markdown",
      "id": "gF4Aho8pWypX",
      "metadata": {
        "id": "gF4Aho8pWypX"
      },
      "source": [
        "# Taking A Part of DataFrame"
      ]
    },
    {
      "cell_type": "code",
      "execution_count": 24,
      "id": "ONGMQoEcEJot",
      "metadata": {
        "colab": {
          "base_uri": "https://localhost:8080/"
        },
        "id": "ONGMQoEcEJot",
        "outputId": "86a0ba42-0b7e-4aea-e9ed-012bdcfacbf7"
      },
      "outputs": [
        {
          "name": "stdout",
          "output_type": "stream",
          "text": [
            "len_train_part =  60000\n",
            "len_test_part =  6000\n"
          ]
        }
      ],
      "source": [
        "train_part = train.iloc[:60000, :]\n",
        "test_part  = test.iloc[:6000,:]\n",
        "print('len_train_part = ',len(train_part))\n",
        "print('len_test_part = ',len(test_part))"
      ]
    },
    {
      "cell_type": "markdown",
      "id": "tujF61e8W-Js",
      "metadata": {
        "id": "tujF61e8W-Js"
      },
      "source": [
        "# Applying Split Daicrtics From Arabictext"
      ]
    },
    {
      "cell_type": "code",
      "execution_count": null,
      "id": "oAuZOb_vEKes",
      "metadata": {
        "colab": {
          "base_uri": "https://localhost:8080/"
        },
        "id": "oAuZOb_vEKes",
        "outputId": "41a874cf-9633-423c-f956-d72cf93ca7e5"
      },
      "outputs": [],
      "source": [
        "train_part[['X' ,'y']] = train_part['diacratized'].apply(lambda x: pd.Series(split_daicrtics_from_arabic_text(x)))\n",
        "test_part[['X' ,'y']] = test_part['diacratized'].apply(lambda x: pd.Series(split_daicrtics_from_arabic_text(x)))"
      ]
    },
    {
      "cell_type": "markdown",
      "id": "TbdGvHBLXSdl",
      "metadata": {
        "id": "TbdGvHBLXSdl"
      },
      "source": [
        "# Applaying Padding"
      ]
    },
    {
      "cell_type": "code",
      "execution_count": 27,
      "id": "F_8MRs9vWoAr",
      "metadata": {
        "id": "F_8MRs9vWoAr"
      },
      "outputs": [],
      "source": [
        "max_length = 100\n",
        "X , y = padding_sequence(max_length , train_part['X'] ,len(CHAR2INDEX), train_part['y'] ,len(diacritic)-1 )"
      ]
    },
    {
      "cell_type": "markdown",
      "id": "TPOM1LCGd2AX",
      "metadata": {
        "id": "TPOM1LCGd2AX"
      },
      "source": [
        "# Applaying Train validation Split"
      ]
    },
    {
      "cell_type": "code",
      "execution_count": 42,
      "id": "4Be_OdRkdjR4",
      "metadata": {
        "id": "4Be_OdRkdjR4"
      },
      "outputs": [],
      "source": [
        "from sklearn.model_selection import train_test_split\n",
        "x_train, x_val, y_train, y_val = train_test_split(X, y, test_size=0.04, random_state=42)"
      ]
    },
    {
      "cell_type": "markdown",
      "id": "54y4anSZeU_Y",
      "metadata": {
        "id": "54y4anSZeU_Y"
      },
      "source": [
        "# Saving Train and Test"
      ]
    },
    {
      "cell_type": "code",
      "execution_count": 41,
      "id": "LBpm9N-3eA-n",
      "metadata": {
        "id": "LBpm9N-3eA-n"
      },
      "outputs": [],
      "source": [
        "# Specify the directory path to save the files\n",
        "save_directory = '/content/drive/MyDrive/Utils'\n",
        "\n",
        "# Create the directory if it doesn't exist\n",
        "os.makedirs(save_directory, exist_ok=True)\n",
        "\n",
        "# Save x_train\n",
        "with open(os.path.join(save_directory, 'X_train.pkl'), 'wb') as f:\n",
        "    pickle.dump(x_train, f)\n",
        "\n",
        "# Save y_train\n",
        "with open(os.path.join(save_directory, 'y_train.pkl'), 'wb') as f:\n",
        "    pickle.dump(y_train, f)\n",
        "\n",
        "# Save x_test\n",
        "with open(os.path.join(save_directory, 'X_val.pkl'), 'wb') as f:\n",
        "    pickle.dump(x_val, f)\n",
        "\n",
        "# Save y_test\n",
        "with open(os.path.join(save_directory, 'y_val.pkl'), 'wb') as f:\n",
        "    pickle.dump(y_val, f)"
      ]
    },
    {
      "cell_type": "code",
      "execution_count": null,
      "id": "-jXJ68OHiABv",
      "metadata": {
        "id": "-jXJ68OHiABv"
      },
      "outputs": [],
      "source": []
    }
  ],
  "metadata": {
    "colab": {
      "provenance": []
    },
    "kernelspec": {
      "display_name": "Python 3 (ipykernel)",
      "language": "python",
      "name": "python3"
    },
    "language_info": {
      "codemirror_mode": {
        "name": "ipython",
        "version": 3
      },
      "file_extension": ".py",
      "mimetype": "text/x-python",
      "name": "python",
      "nbconvert_exporter": "python",
      "pygments_lexer": "ipython3",
      "version": "3.10.1"
    }
  },
  "nbformat": 4,
  "nbformat_minor": 5
}
