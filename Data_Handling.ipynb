{
  "cells": [
    {
      "cell_type": "markdown",
      "id": "e7106486",
      "metadata": {
        "id": "e7106486"
      },
      "source": [
        "<h1>\n",
        "    Import Modules"
      ]
    },
    {
      "cell_type": "code",
      "execution_count": null,
      "id": "92f9b99f",
      "metadata": {
        "id": "92f9b99f"
      },
      "outputs": [],
      "source": [
        "import string\n",
        "import os\n",
        "import pickle as pkl\n",
        "from os import walk\n",
        "import pandas as pd\n",
        "import numpy as np\n",
        "import csv\n",
        "import matplotlib.pyplot as plt\n",
        "from matplotlib.pyplot import figure\n",
        "import tensorflow\n",
        "from tensorflow.keras.preprocessing.sequence import pad_sequences\n",
        "from tensorflow.keras.callbacks import ModelCheckpoint, EarlyStopping\n",
        "from livelossplot.tf_keras import PlotLossesCallback\n",
        "import nltk\n",
        "nltk.download('punkt')\n",
        "import unicodedata\n",
        "import joblib\n",
        "from tensorflow import keras\n",
        "import pickle"
      ]
    },
    {
      "cell_type": "code",
      "source": [
        "from google.colab import drive\n",
        "drive.mount('/content/drive')"
      ],
      "metadata": {
        "id": "oBY7j0htyBQH"
      },
      "id": "oBY7j0htyBQH",
      "execution_count": null,
      "outputs": []
    },
    {
      "cell_type": "code",
      "execution_count": null,
      "id": "pwg0LwAHfp8D",
      "metadata": {
        "id": "pwg0LwAHfp8D"
      },
      "outputs": [],
      "source": [
        "from data_wrangling import data_wrangling\n",
        "from is_diacritic import is_diacritic\n",
        "from is_char import is_char\n",
        "from split_daicrtics_from_arabic_text import split_daicrtics_from_arabic_text\n",
        "from padding_sequence import padding_sequence\n",
        "from concate_arabic_letters_astext_with_daicritic import concate_arabic_letters_astext_with_daicritic\n",
        "from concate_arabic_letters_asnumber_with_daicritic import concate_arabic_letters_asnumber_with_daicritic\n",
        "from remove_diacritics import remove_diacritics"
      ]
    },
    {
      "cell_type": "code",
      "execution_count": null,
      "id": "626fa0c9",
      "metadata": {
        "id": "626fa0c9"
      },
      "outputs": [],
      "source": [
        "ARABIC_LETTERS = frozenset([chr(x) for x in (list(range(0x0621, 0x63B)) + list(range(0x0641, 0x064B)))])\n",
        "diacritic = ['َ', 'ً', 'ُ', 'ٌ', 'ِ', 'ٍ', 'ْ', 'ّ', 'َّ', 'ًّ', 'ُّ', 'ٌّ', 'ِّ', 'ٍّ','']"
      ]
    },
    {
      "cell_type": "code",
      "execution_count": null,
      "id": "581e5059",
      "metadata": {
        "id": "581e5059"
      },
      "outputs": [],
      "source": [
        "CHAR2INDEX = dict((l, n) for n, l in enumerate(sorted(ARABIC_LETTERS)))\n",
        "CHAR2INDEX.update(dict((v, k) for k, v in enumerate([' '], len(CHAR2INDEX))))"
      ]
    },
    {
      "cell_type": "code",
      "execution_count": null,
      "id": "8b32d612",
      "metadata": {
        "id": "8b32d612"
      },
      "outputs": [],
      "source": [
        "DIAC2INDEX= {char: i for i, char in enumerate(diacritic)}"
      ]
    },
    {
      "cell_type": "markdown",
      "id": "96c9968b",
      "metadata": {
        "id": "96c9968b"
      },
      "source": [
        "<h1>\n",
        "    Loading Tashkeela Corpus (Cleaned Version) from Huging Face"
      ]
    },
    {
      "cell_type": "code",
      "execution_count": null,
      "id": "c3686b3a",
      "metadata": {
        "id": "c3686b3a"
      },
      "outputs": [],
      "source": [
        "import datasets"
      ]
    },
    {
      "cell_type": "markdown",
      "id": "3a841444",
      "metadata": {
        "id": "3a841444"
      },
      "source": [
        "<h1>\n",
        "    Loading Train data and Convert it into DataFrame"
      ]
    },
    {
      "cell_type": "code",
      "execution_count": null,
      "id": "426aa357",
      "metadata": {
        "id": "426aa357"
      },
      "outputs": [],
      "source": [
        "train = datasets.load_dataset('arbml/tashkeelav2', split='train')\n"
      ]
    },
    {
      "cell_type": "code",
      "execution_count": null,
      "id": "54a3d4c1",
      "metadata": {
        "id": "54a3d4c1"
      },
      "outputs": [],
      "source": [
        "train = pd.DataFrame(train)\n"
      ]
    },
    {
      "cell_type": "code",
      "execution_count": null,
      "id": "0ca44217",
      "metadata": {
        "colab": {
          "base_uri": "https://localhost:8080/",
          "height": 206
        },
        "id": "0ca44217",
        "outputId": "4b2de50a-678f-4bbf-bed9-86aa52295f99"
      },
      "outputs": [
        {
          "output_type": "execute_result",
          "data": {
            "text/plain": [
              "                                         diacratized  \\\n",
              "0  إلَى مُوَكَّلِي الدَّائِنِ فَفِي حِكَايَتِهِ ه...   \n",
              "1  فَإِنْ أَبْرَءُوهُ بَعْدَ الْوَكَالَةِ لَمْ يَ...   \n",
              "2  لِأَقْسَامٍ مِنْ الْعَرَبِيَّةِ جَعَلُوهَا أَي...   \n",
              "3  بِالْأَشْيَاءِ كَوْنُهَا وَيُسَمَّى هَذَا عِلْ...   \n",
              "4  فَمَنْ تَعَجَّلَ فِي يَوْمَيْنِ فَلَا إِثْمَ ع...   \n",
              "\n",
              "                                                text  \n",
              "0  إلى موكلي الدائن ففي حكايته هذه إلزام الموكل ا...  \n",
              "1  فإن أبرءوه بعد الوكالة لم يكن وكيلا في قبضه أي...  \n",
              "2  لأقسام من العربية جعلوها أي علماء هذا العلم ال...  \n",
              "3  بالأشياء كونها ويسمى هذا علما بما سيكون ثم يعل...  \n",
              "4  فمن تعجل في يومين فلا إثم عليه ومن تأخر فلا إث...  "
            ],
            "text/html": [
              "\n",
              "  <div id=\"df-44940e84-6b92-4c91-aff6-d10f05ddfb86\" class=\"colab-df-container\">\n",
              "    <div>\n",
              "<style scoped>\n",
              "    .dataframe tbody tr th:only-of-type {\n",
              "        vertical-align: middle;\n",
              "    }\n",
              "\n",
              "    .dataframe tbody tr th {\n",
              "        vertical-align: top;\n",
              "    }\n",
              "\n",
              "    .dataframe thead th {\n",
              "        text-align: right;\n",
              "    }\n",
              "</style>\n",
              "<table border=\"1\" class=\"dataframe\">\n",
              "  <thead>\n",
              "    <tr style=\"text-align: right;\">\n",
              "      <th></th>\n",
              "      <th>diacratized</th>\n",
              "      <th>text</th>\n",
              "    </tr>\n",
              "  </thead>\n",
              "  <tbody>\n",
              "    <tr>\n",
              "      <th>0</th>\n",
              "      <td>إلَى مُوَكَّلِي الدَّائِنِ فَفِي حِكَايَتِهِ ه...</td>\n",
              "      <td>إلى موكلي الدائن ففي حكايته هذه إلزام الموكل ا...</td>\n",
              "    </tr>\n",
              "    <tr>\n",
              "      <th>1</th>\n",
              "      <td>فَإِنْ أَبْرَءُوهُ بَعْدَ الْوَكَالَةِ لَمْ يَ...</td>\n",
              "      <td>فإن أبرءوه بعد الوكالة لم يكن وكيلا في قبضه أي...</td>\n",
              "    </tr>\n",
              "    <tr>\n",
              "      <th>2</th>\n",
              "      <td>لِأَقْسَامٍ مِنْ الْعَرَبِيَّةِ جَعَلُوهَا أَي...</td>\n",
              "      <td>لأقسام من العربية جعلوها أي علماء هذا العلم ال...</td>\n",
              "    </tr>\n",
              "    <tr>\n",
              "      <th>3</th>\n",
              "      <td>بِالْأَشْيَاءِ كَوْنُهَا وَيُسَمَّى هَذَا عِلْ...</td>\n",
              "      <td>بالأشياء كونها ويسمى هذا علما بما سيكون ثم يعل...</td>\n",
              "    </tr>\n",
              "    <tr>\n",
              "      <th>4</th>\n",
              "      <td>فَمَنْ تَعَجَّلَ فِي يَوْمَيْنِ فَلَا إِثْمَ ع...</td>\n",
              "      <td>فمن تعجل في يومين فلا إثم عليه ومن تأخر فلا إث...</td>\n",
              "    </tr>\n",
              "  </tbody>\n",
              "</table>\n",
              "</div>\n",
              "    <div class=\"colab-df-buttons\">\n",
              "\n",
              "  <div class=\"colab-df-container\">\n",
              "    <button class=\"colab-df-convert\" onclick=\"convertToInteractive('df-44940e84-6b92-4c91-aff6-d10f05ddfb86')\"\n",
              "            title=\"Convert this dataframe to an interactive table.\"\n",
              "            style=\"display:none;\">\n",
              "\n",
              "  <svg xmlns=\"http://www.w3.org/2000/svg\" height=\"24px\" viewBox=\"0 -960 960 960\">\n",
              "    <path d=\"M120-120v-720h720v720H120Zm60-500h600v-160H180v160Zm220 220h160v-160H400v160Zm0 220h160v-160H400v160ZM180-400h160v-160H180v160Zm440 0h160v-160H620v160ZM180-180h160v-160H180v160Zm440 0h160v-160H620v160Z\"/>\n",
              "  </svg>\n",
              "    </button>\n",
              "\n",
              "  <style>\n",
              "    .colab-df-container {\n",
              "      display:flex;\n",
              "      gap: 12px;\n",
              "    }\n",
              "\n",
              "    .colab-df-convert {\n",
              "      background-color: #E8F0FE;\n",
              "      border: none;\n",
              "      border-radius: 50%;\n",
              "      cursor: pointer;\n",
              "      display: none;\n",
              "      fill: #1967D2;\n",
              "      height: 32px;\n",
              "      padding: 0 0 0 0;\n",
              "      width: 32px;\n",
              "    }\n",
              "\n",
              "    .colab-df-convert:hover {\n",
              "      background-color: #E2EBFA;\n",
              "      box-shadow: 0px 1px 2px rgba(60, 64, 67, 0.3), 0px 1px 3px 1px rgba(60, 64, 67, 0.15);\n",
              "      fill: #174EA6;\n",
              "    }\n",
              "\n",
              "    .colab-df-buttons div {\n",
              "      margin-bottom: 4px;\n",
              "    }\n",
              "\n",
              "    [theme=dark] .colab-df-convert {\n",
              "      background-color: #3B4455;\n",
              "      fill: #D2E3FC;\n",
              "    }\n",
              "\n",
              "    [theme=dark] .colab-df-convert:hover {\n",
              "      background-color: #434B5C;\n",
              "      box-shadow: 0px 1px 3px 1px rgba(0, 0, 0, 0.15);\n",
              "      filter: drop-shadow(0px 1px 2px rgba(0, 0, 0, 0.3));\n",
              "      fill: #FFFFFF;\n",
              "    }\n",
              "  </style>\n",
              "\n",
              "    <script>\n",
              "      const buttonEl =\n",
              "        document.querySelector('#df-44940e84-6b92-4c91-aff6-d10f05ddfb86 button.colab-df-convert');\n",
              "      buttonEl.style.display =\n",
              "        google.colab.kernel.accessAllowed ? 'block' : 'none';\n",
              "\n",
              "      async function convertToInteractive(key) {\n",
              "        const element = document.querySelector('#df-44940e84-6b92-4c91-aff6-d10f05ddfb86');\n",
              "        const dataTable =\n",
              "          await google.colab.kernel.invokeFunction('convertToInteractive',\n",
              "                                                    [key], {});\n",
              "        if (!dataTable) return;\n",
              "\n",
              "        const docLinkHtml = 'Like what you see? Visit the ' +\n",
              "          '<a target=\"_blank\" href=https://colab.research.google.com/notebooks/data_table.ipynb>data table notebook</a>'\n",
              "          + ' to learn more about interactive tables.';\n",
              "        element.innerHTML = '';\n",
              "        dataTable['output_type'] = 'display_data';\n",
              "        await google.colab.output.renderOutput(dataTable, element);\n",
              "        const docLink = document.createElement('div');\n",
              "        docLink.innerHTML = docLinkHtml;\n",
              "        element.appendChild(docLink);\n",
              "      }\n",
              "    </script>\n",
              "  </div>\n",
              "\n",
              "\n",
              "<div id=\"df-051beea2-fbba-4ecf-add2-e6f9808aa145\">\n",
              "  <button class=\"colab-df-quickchart\" onclick=\"quickchart('df-051beea2-fbba-4ecf-add2-e6f9808aa145')\"\n",
              "            title=\"Suggest charts.\"\n",
              "            style=\"display:none;\">\n",
              "\n",
              "<svg xmlns=\"http://www.w3.org/2000/svg\" height=\"24px\"viewBox=\"0 0 24 24\"\n",
              "     width=\"24px\">\n",
              "    <g>\n",
              "        <path d=\"M19 3H5c-1.1 0-2 .9-2 2v14c0 1.1.9 2 2 2h14c1.1 0 2-.9 2-2V5c0-1.1-.9-2-2-2zM9 17H7v-7h2v7zm4 0h-2V7h2v10zm4 0h-2v-4h2v4z\"/>\n",
              "    </g>\n",
              "</svg>\n",
              "  </button>\n",
              "\n",
              "<style>\n",
              "  .colab-df-quickchart {\n",
              "    background-color: #E8F0FE;\n",
              "    border: none;\n",
              "    border-radius: 50%;\n",
              "    cursor: pointer;\n",
              "    display: none;\n",
              "    fill: #1967D2;\n",
              "    height: 32px;\n",
              "    padding: 0 0 0 0;\n",
              "    width: 32px;\n",
              "  }\n",
              "\n",
              "  .colab-df-quickchart:hover {\n",
              "    background-color: #E2EBFA;\n",
              "    box-shadow: 0px 1px 2px rgba(60, 64, 67, 0.3), 0px 1px 3px 1px rgba(60, 64, 67, 0.15);\n",
              "    fill: #174EA6;\n",
              "  }\n",
              "\n",
              "  [theme=dark] .colab-df-quickchart {\n",
              "    background-color: #3B4455;\n",
              "    fill: #D2E3FC;\n",
              "  }\n",
              "\n",
              "  [theme=dark] .colab-df-quickchart:hover {\n",
              "    background-color: #434B5C;\n",
              "    box-shadow: 0px 1px 3px 1px rgba(0, 0, 0, 0.15);\n",
              "    filter: drop-shadow(0px 1px 2px rgba(0, 0, 0, 0.3));\n",
              "    fill: #FFFFFF;\n",
              "  }\n",
              "</style>\n",
              "\n",
              "  <script>\n",
              "    async function quickchart(key) {\n",
              "      const charts = await google.colab.kernel.invokeFunction(\n",
              "          'suggestCharts', [key], {});\n",
              "    }\n",
              "    (() => {\n",
              "      let quickchartButtonEl =\n",
              "        document.querySelector('#df-051beea2-fbba-4ecf-add2-e6f9808aa145 button');\n",
              "      quickchartButtonEl.style.display =\n",
              "        google.colab.kernel.accessAllowed ? 'block' : 'none';\n",
              "    })();\n",
              "  </script>\n",
              "</div>\n",
              "    </div>\n",
              "  </div>\n"
            ]
          },
          "metadata": {},
          "execution_count": 11
        }
      ],
      "source": [
        "train.head()"
      ]
    },
    {
      "cell_type": "code",
      "execution_count": null,
      "id": "9cf8cbbf",
      "metadata": {
        "colab": {
          "base_uri": "https://localhost:8080/",
          "height": 206
        },
        "id": "9cf8cbbf",
        "outputId": "668dddb9-0c46-4a6d-e7d5-eefc4757a3dc"
      },
      "outputs": [
        {
          "output_type": "execute_result",
          "data": {
            "text/plain": [
              "                                              diacratized  \\\n",
              "522458  وَلَنَا مَا رُوِيَ أَنَّ النَّبِيَّ صَلَّى الل...   \n",
              "522459  وَهِيَ أَيْ صَدَقَةُ الْفِطْرِ نِصْفُ صَاعٍ مِ...   \n",
              "522460  قَوْلُهُ الْمُقْتَضَى أَوْ الْمُخَيَّرُ الْإِس...   \n",
              "522461  طَلَبَهُ وَامْتَنَعَ الْمُشْتَرِي مِنْهُ لِأَن...   \n",
              "522462  قُلْتُ فَإِنْ كَانَ أَرَادَ أَنْ يَرُدَّ قَالَ...   \n",
              "\n",
              "                                                     text  \n",
              "522458  ولنا ما روي أن النبي صلى الله عليه وسلم صلى عل...  \n",
              "522459  وهي أي صدقة الفطر نصف صاع من بر أو دقيقه أو سو...  \n",
              "522460  قوله المقتضى أو المخير الإسناد فيهما مجازي إذ ...  \n",
              "522461  طلبه وامتنع المشتري منه لأن المشتري قد يكون غر...  \n",
              "522462  قلت فإن كان أراد أن يرد قال مالك ذلك له فإن قا...  "
            ],
            "text/html": [
              "\n",
              "  <div id=\"df-6555c55c-34f3-4fae-9b07-1fb188dcf2a8\" class=\"colab-df-container\">\n",
              "    <div>\n",
              "<style scoped>\n",
              "    .dataframe tbody tr th:only-of-type {\n",
              "        vertical-align: middle;\n",
              "    }\n",
              "\n",
              "    .dataframe tbody tr th {\n",
              "        vertical-align: top;\n",
              "    }\n",
              "\n",
              "    .dataframe thead th {\n",
              "        text-align: right;\n",
              "    }\n",
              "</style>\n",
              "<table border=\"1\" class=\"dataframe\">\n",
              "  <thead>\n",
              "    <tr style=\"text-align: right;\">\n",
              "      <th></th>\n",
              "      <th>diacratized</th>\n",
              "      <th>text</th>\n",
              "    </tr>\n",
              "  </thead>\n",
              "  <tbody>\n",
              "    <tr>\n",
              "      <th>522458</th>\n",
              "      <td>وَلَنَا مَا رُوِيَ أَنَّ النَّبِيَّ صَلَّى الل...</td>\n",
              "      <td>ولنا ما روي أن النبي صلى الله عليه وسلم صلى عل...</td>\n",
              "    </tr>\n",
              "    <tr>\n",
              "      <th>522459</th>\n",
              "      <td>وَهِيَ أَيْ صَدَقَةُ الْفِطْرِ نِصْفُ صَاعٍ مِ...</td>\n",
              "      <td>وهي أي صدقة الفطر نصف صاع من بر أو دقيقه أو سو...</td>\n",
              "    </tr>\n",
              "    <tr>\n",
              "      <th>522460</th>\n",
              "      <td>قَوْلُهُ الْمُقْتَضَى أَوْ الْمُخَيَّرُ الْإِس...</td>\n",
              "      <td>قوله المقتضى أو المخير الإسناد فيهما مجازي إذ ...</td>\n",
              "    </tr>\n",
              "    <tr>\n",
              "      <th>522461</th>\n",
              "      <td>طَلَبَهُ وَامْتَنَعَ الْمُشْتَرِي مِنْهُ لِأَن...</td>\n",
              "      <td>طلبه وامتنع المشتري منه لأن المشتري قد يكون غر...</td>\n",
              "    </tr>\n",
              "    <tr>\n",
              "      <th>522462</th>\n",
              "      <td>قُلْتُ فَإِنْ كَانَ أَرَادَ أَنْ يَرُدَّ قَالَ...</td>\n",
              "      <td>قلت فإن كان أراد أن يرد قال مالك ذلك له فإن قا...</td>\n",
              "    </tr>\n",
              "  </tbody>\n",
              "</table>\n",
              "</div>\n",
              "    <div class=\"colab-df-buttons\">\n",
              "\n",
              "  <div class=\"colab-df-container\">\n",
              "    <button class=\"colab-df-convert\" onclick=\"convertToInteractive('df-6555c55c-34f3-4fae-9b07-1fb188dcf2a8')\"\n",
              "            title=\"Convert this dataframe to an interactive table.\"\n",
              "            style=\"display:none;\">\n",
              "\n",
              "  <svg xmlns=\"http://www.w3.org/2000/svg\" height=\"24px\" viewBox=\"0 -960 960 960\">\n",
              "    <path d=\"M120-120v-720h720v720H120Zm60-500h600v-160H180v160Zm220 220h160v-160H400v160Zm0 220h160v-160H400v160ZM180-400h160v-160H180v160Zm440 0h160v-160H620v160ZM180-180h160v-160H180v160Zm440 0h160v-160H620v160Z\"/>\n",
              "  </svg>\n",
              "    </button>\n",
              "\n",
              "  <style>\n",
              "    .colab-df-container {\n",
              "      display:flex;\n",
              "      gap: 12px;\n",
              "    }\n",
              "\n",
              "    .colab-df-convert {\n",
              "      background-color: #E8F0FE;\n",
              "      border: none;\n",
              "      border-radius: 50%;\n",
              "      cursor: pointer;\n",
              "      display: none;\n",
              "      fill: #1967D2;\n",
              "      height: 32px;\n",
              "      padding: 0 0 0 0;\n",
              "      width: 32px;\n",
              "    }\n",
              "\n",
              "    .colab-df-convert:hover {\n",
              "      background-color: #E2EBFA;\n",
              "      box-shadow: 0px 1px 2px rgba(60, 64, 67, 0.3), 0px 1px 3px 1px rgba(60, 64, 67, 0.15);\n",
              "      fill: #174EA6;\n",
              "    }\n",
              "\n",
              "    .colab-df-buttons div {\n",
              "      margin-bottom: 4px;\n",
              "    }\n",
              "\n",
              "    [theme=dark] .colab-df-convert {\n",
              "      background-color: #3B4455;\n",
              "      fill: #D2E3FC;\n",
              "    }\n",
              "\n",
              "    [theme=dark] .colab-df-convert:hover {\n",
              "      background-color: #434B5C;\n",
              "      box-shadow: 0px 1px 3px 1px rgba(0, 0, 0, 0.15);\n",
              "      filter: drop-shadow(0px 1px 2px rgba(0, 0, 0, 0.3));\n",
              "      fill: #FFFFFF;\n",
              "    }\n",
              "  </style>\n",
              "\n",
              "    <script>\n",
              "      const buttonEl =\n",
              "        document.querySelector('#df-6555c55c-34f3-4fae-9b07-1fb188dcf2a8 button.colab-df-convert');\n",
              "      buttonEl.style.display =\n",
              "        google.colab.kernel.accessAllowed ? 'block' : 'none';\n",
              "\n",
              "      async function convertToInteractive(key) {\n",
              "        const element = document.querySelector('#df-6555c55c-34f3-4fae-9b07-1fb188dcf2a8');\n",
              "        const dataTable =\n",
              "          await google.colab.kernel.invokeFunction('convertToInteractive',\n",
              "                                                    [key], {});\n",
              "        if (!dataTable) return;\n",
              "\n",
              "        const docLinkHtml = 'Like what you see? Visit the ' +\n",
              "          '<a target=\"_blank\" href=https://colab.research.google.com/notebooks/data_table.ipynb>data table notebook</a>'\n",
              "          + ' to learn more about interactive tables.';\n",
              "        element.innerHTML = '';\n",
              "        dataTable['output_type'] = 'display_data';\n",
              "        await google.colab.output.renderOutput(dataTable, element);\n",
              "        const docLink = document.createElement('div');\n",
              "        docLink.innerHTML = docLinkHtml;\n",
              "        element.appendChild(docLink);\n",
              "      }\n",
              "    </script>\n",
              "  </div>\n",
              "\n",
              "\n",
              "<div id=\"df-84af8184-9924-44a9-b30f-eb4d84e6a0c6\">\n",
              "  <button class=\"colab-df-quickchart\" onclick=\"quickchart('df-84af8184-9924-44a9-b30f-eb4d84e6a0c6')\"\n",
              "            title=\"Suggest charts.\"\n",
              "            style=\"display:none;\">\n",
              "\n",
              "<svg xmlns=\"http://www.w3.org/2000/svg\" height=\"24px\"viewBox=\"0 0 24 24\"\n",
              "     width=\"24px\">\n",
              "    <g>\n",
              "        <path d=\"M19 3H5c-1.1 0-2 .9-2 2v14c0 1.1.9 2 2 2h14c1.1 0 2-.9 2-2V5c0-1.1-.9-2-2-2zM9 17H7v-7h2v7zm4 0h-2V7h2v10zm4 0h-2v-4h2v4z\"/>\n",
              "    </g>\n",
              "</svg>\n",
              "  </button>\n",
              "\n",
              "<style>\n",
              "  .colab-df-quickchart {\n",
              "    background-color: #E8F0FE;\n",
              "    border: none;\n",
              "    border-radius: 50%;\n",
              "    cursor: pointer;\n",
              "    display: none;\n",
              "    fill: #1967D2;\n",
              "    height: 32px;\n",
              "    padding: 0 0 0 0;\n",
              "    width: 32px;\n",
              "  }\n",
              "\n",
              "  .colab-df-quickchart:hover {\n",
              "    background-color: #E2EBFA;\n",
              "    box-shadow: 0px 1px 2px rgba(60, 64, 67, 0.3), 0px 1px 3px 1px rgba(60, 64, 67, 0.15);\n",
              "    fill: #174EA6;\n",
              "  }\n",
              "\n",
              "  [theme=dark] .colab-df-quickchart {\n",
              "    background-color: #3B4455;\n",
              "    fill: #D2E3FC;\n",
              "  }\n",
              "\n",
              "  [theme=dark] .colab-df-quickchart:hover {\n",
              "    background-color: #434B5C;\n",
              "    box-shadow: 0px 1px 3px 1px rgba(0, 0, 0, 0.15);\n",
              "    filter: drop-shadow(0px 1px 2px rgba(0, 0, 0, 0.3));\n",
              "    fill: #FFFFFF;\n",
              "  }\n",
              "</style>\n",
              "\n",
              "  <script>\n",
              "    async function quickchart(key) {\n",
              "      const charts = await google.colab.kernel.invokeFunction(\n",
              "          'suggestCharts', [key], {});\n",
              "    }\n",
              "    (() => {\n",
              "      let quickchartButtonEl =\n",
              "        document.querySelector('#df-84af8184-9924-44a9-b30f-eb4d84e6a0c6 button');\n",
              "      quickchartButtonEl.style.display =\n",
              "        google.colab.kernel.accessAllowed ? 'block' : 'none';\n",
              "    })();\n",
              "  </script>\n",
              "</div>\n",
              "    </div>\n",
              "  </div>\n"
            ]
          },
          "metadata": {},
          "execution_count": 12
        }
      ],
      "source": [
        "train.tail()"
      ]
    },
    {
      "cell_type": "code",
      "execution_count": null,
      "id": "5d411077",
      "metadata": {
        "colab": {
          "base_uri": "https://localhost:8080/"
        },
        "id": "5d411077",
        "outputId": "a81524d6-6d77-4a05-e3f4-ee2bd1638487"
      },
      "outputs": [
        {
          "output_type": "execute_result",
          "data": {
            "text/plain": [
              "522463"
            ]
          },
          "metadata": {},
          "execution_count": 13
        }
      ],
      "source": [
        "# Checking Length of diacratized text column in dataFrame\n",
        "diacritic_train = train['diacratized']\n",
        "len(diacritic_train)"
      ]
    },
    {
      "cell_type": "markdown",
      "id": "09a87870",
      "metadata": {
        "id": "09a87870"
      },
      "source": [
        "<h1>\n",
        "    Loading Test data & Convert it into DataFrame"
      ]
    },
    {
      "cell_type": "code",
      "execution_count": null,
      "id": "0ecdc647",
      "metadata": {
        "id": "0ecdc647"
      },
      "outputs": [],
      "source": [
        "test = datasets.load_dataset('arbml/tashkeelav2', split='test')"
      ]
    },
    {
      "cell_type": "code",
      "execution_count": null,
      "id": "fd0dabac",
      "metadata": {
        "id": "fd0dabac"
      },
      "outputs": [],
      "source": [
        "test = pd.DataFrame(test)"
      ]
    },
    {
      "cell_type": "code",
      "execution_count": null,
      "id": "3743a906",
      "metadata": {
        "colab": {
          "base_uri": "https://localhost:8080/",
          "height": 206
        },
        "id": "3743a906",
        "outputId": "35627681-b443-4abf-f381-468252a74174"
      },
      "outputs": [
        {
          "output_type": "execute_result",
          "data": {
            "text/plain": [
              "                                         diacratized  \\\n",
              "0  قَالَ وَإِنْ كَانَ فِيهَا شَيْءٌ بَارٌّ لَا يَ...   \n",
              "1  قِيَامِ الْمُسْتَحِقِّ فَقَالَ ابْنُ الْمَوَّا...   \n",
              "2  فَقَدْ اجْتَهَدَ الْإِمَامُ الشَّافِعِيُّ وَال...   \n",
              "3  فِيمَنْ أَنْفَقَ عَلَى ضَالَّةٍ وَفِي الْوَصِي...   \n",
              "4  أَخْبَرَنَا أَبُو عَبْدِ اللَّهِ الْحَافِظُ أَ...   \n",
              "\n",
              "                                                text  \n",
              "0  قال وإن كان فيها شيء بار لا يجوز فإنه حانث قلت...  \n",
              "1  قيام المستحق فقال ابن المواز لا شيء على المشتر...  \n",
              "2  فقد اجتهد الإمام الشافعي والإمام محمد والإمام ...  \n",
              "3  فيمن أنفق على ضالة وفي الوصي يرهن لليتيم رهنا ...  \n",
              "4  أخبرنا أبو عبد الله الحافظ أخبرنى أحمد بن سهل ...  "
            ],
            "text/html": [
              "\n",
              "  <div id=\"df-0e52ec72-acb1-4bb2-a8d8-3fa790a2c6ca\" class=\"colab-df-container\">\n",
              "    <div>\n",
              "<style scoped>\n",
              "    .dataframe tbody tr th:only-of-type {\n",
              "        vertical-align: middle;\n",
              "    }\n",
              "\n",
              "    .dataframe tbody tr th {\n",
              "        vertical-align: top;\n",
              "    }\n",
              "\n",
              "    .dataframe thead th {\n",
              "        text-align: right;\n",
              "    }\n",
              "</style>\n",
              "<table border=\"1\" class=\"dataframe\">\n",
              "  <thead>\n",
              "    <tr style=\"text-align: right;\">\n",
              "      <th></th>\n",
              "      <th>diacratized</th>\n",
              "      <th>text</th>\n",
              "    </tr>\n",
              "  </thead>\n",
              "  <tbody>\n",
              "    <tr>\n",
              "      <th>0</th>\n",
              "      <td>قَالَ وَإِنْ كَانَ فِيهَا شَيْءٌ بَارٌّ لَا يَ...</td>\n",
              "      <td>قال وإن كان فيها شيء بار لا يجوز فإنه حانث قلت...</td>\n",
              "    </tr>\n",
              "    <tr>\n",
              "      <th>1</th>\n",
              "      <td>قِيَامِ الْمُسْتَحِقِّ فَقَالَ ابْنُ الْمَوَّا...</td>\n",
              "      <td>قيام المستحق فقال ابن المواز لا شيء على المشتر...</td>\n",
              "    </tr>\n",
              "    <tr>\n",
              "      <th>2</th>\n",
              "      <td>فَقَدْ اجْتَهَدَ الْإِمَامُ الشَّافِعِيُّ وَال...</td>\n",
              "      <td>فقد اجتهد الإمام الشافعي والإمام محمد والإمام ...</td>\n",
              "    </tr>\n",
              "    <tr>\n",
              "      <th>3</th>\n",
              "      <td>فِيمَنْ أَنْفَقَ عَلَى ضَالَّةٍ وَفِي الْوَصِي...</td>\n",
              "      <td>فيمن أنفق على ضالة وفي الوصي يرهن لليتيم رهنا ...</td>\n",
              "    </tr>\n",
              "    <tr>\n",
              "      <th>4</th>\n",
              "      <td>أَخْبَرَنَا أَبُو عَبْدِ اللَّهِ الْحَافِظُ أَ...</td>\n",
              "      <td>أخبرنا أبو عبد الله الحافظ أخبرنى أحمد بن سهل ...</td>\n",
              "    </tr>\n",
              "  </tbody>\n",
              "</table>\n",
              "</div>\n",
              "    <div class=\"colab-df-buttons\">\n",
              "\n",
              "  <div class=\"colab-df-container\">\n",
              "    <button class=\"colab-df-convert\" onclick=\"convertToInteractive('df-0e52ec72-acb1-4bb2-a8d8-3fa790a2c6ca')\"\n",
              "            title=\"Convert this dataframe to an interactive table.\"\n",
              "            style=\"display:none;\">\n",
              "\n",
              "  <svg xmlns=\"http://www.w3.org/2000/svg\" height=\"24px\" viewBox=\"0 -960 960 960\">\n",
              "    <path d=\"M120-120v-720h720v720H120Zm60-500h600v-160H180v160Zm220 220h160v-160H400v160Zm0 220h160v-160H400v160ZM180-400h160v-160H180v160Zm440 0h160v-160H620v160ZM180-180h160v-160H180v160Zm440 0h160v-160H620v160Z\"/>\n",
              "  </svg>\n",
              "    </button>\n",
              "\n",
              "  <style>\n",
              "    .colab-df-container {\n",
              "      display:flex;\n",
              "      gap: 12px;\n",
              "    }\n",
              "\n",
              "    .colab-df-convert {\n",
              "      background-color: #E8F0FE;\n",
              "      border: none;\n",
              "      border-radius: 50%;\n",
              "      cursor: pointer;\n",
              "      display: none;\n",
              "      fill: #1967D2;\n",
              "      height: 32px;\n",
              "      padding: 0 0 0 0;\n",
              "      width: 32px;\n",
              "    }\n",
              "\n",
              "    .colab-df-convert:hover {\n",
              "      background-color: #E2EBFA;\n",
              "      box-shadow: 0px 1px 2px rgba(60, 64, 67, 0.3), 0px 1px 3px 1px rgba(60, 64, 67, 0.15);\n",
              "      fill: #174EA6;\n",
              "    }\n",
              "\n",
              "    .colab-df-buttons div {\n",
              "      margin-bottom: 4px;\n",
              "    }\n",
              "\n",
              "    [theme=dark] .colab-df-convert {\n",
              "      background-color: #3B4455;\n",
              "      fill: #D2E3FC;\n",
              "    }\n",
              "\n",
              "    [theme=dark] .colab-df-convert:hover {\n",
              "      background-color: #434B5C;\n",
              "      box-shadow: 0px 1px 3px 1px rgba(0, 0, 0, 0.15);\n",
              "      filter: drop-shadow(0px 1px 2px rgba(0, 0, 0, 0.3));\n",
              "      fill: #FFFFFF;\n",
              "    }\n",
              "  </style>\n",
              "\n",
              "    <script>\n",
              "      const buttonEl =\n",
              "        document.querySelector('#df-0e52ec72-acb1-4bb2-a8d8-3fa790a2c6ca button.colab-df-convert');\n",
              "      buttonEl.style.display =\n",
              "        google.colab.kernel.accessAllowed ? 'block' : 'none';\n",
              "\n",
              "      async function convertToInteractive(key) {\n",
              "        const element = document.querySelector('#df-0e52ec72-acb1-4bb2-a8d8-3fa790a2c6ca');\n",
              "        const dataTable =\n",
              "          await google.colab.kernel.invokeFunction('convertToInteractive',\n",
              "                                                    [key], {});\n",
              "        if (!dataTable) return;\n",
              "\n",
              "        const docLinkHtml = 'Like what you see? Visit the ' +\n",
              "          '<a target=\"_blank\" href=https://colab.research.google.com/notebooks/data_table.ipynb>data table notebook</a>'\n",
              "          + ' to learn more about interactive tables.';\n",
              "        element.innerHTML = '';\n",
              "        dataTable['output_type'] = 'display_data';\n",
              "        await google.colab.output.renderOutput(dataTable, element);\n",
              "        const docLink = document.createElement('div');\n",
              "        docLink.innerHTML = docLinkHtml;\n",
              "        element.appendChild(docLink);\n",
              "      }\n",
              "    </script>\n",
              "  </div>\n",
              "\n",
              "\n",
              "<div id=\"df-a7c1a1c6-0d72-45e3-ad9f-26f83f8c973c\">\n",
              "  <button class=\"colab-df-quickchart\" onclick=\"quickchart('df-a7c1a1c6-0d72-45e3-ad9f-26f83f8c973c')\"\n",
              "            title=\"Suggest charts.\"\n",
              "            style=\"display:none;\">\n",
              "\n",
              "<svg xmlns=\"http://www.w3.org/2000/svg\" height=\"24px\"viewBox=\"0 0 24 24\"\n",
              "     width=\"24px\">\n",
              "    <g>\n",
              "        <path d=\"M19 3H5c-1.1 0-2 .9-2 2v14c0 1.1.9 2 2 2h14c1.1 0 2-.9 2-2V5c0-1.1-.9-2-2-2zM9 17H7v-7h2v7zm4 0h-2V7h2v10zm4 0h-2v-4h2v4z\"/>\n",
              "    </g>\n",
              "</svg>\n",
              "  </button>\n",
              "\n",
              "<style>\n",
              "  .colab-df-quickchart {\n",
              "    background-color: #E8F0FE;\n",
              "    border: none;\n",
              "    border-radius: 50%;\n",
              "    cursor: pointer;\n",
              "    display: none;\n",
              "    fill: #1967D2;\n",
              "    height: 32px;\n",
              "    padding: 0 0 0 0;\n",
              "    width: 32px;\n",
              "  }\n",
              "\n",
              "  .colab-df-quickchart:hover {\n",
              "    background-color: #E2EBFA;\n",
              "    box-shadow: 0px 1px 2px rgba(60, 64, 67, 0.3), 0px 1px 3px 1px rgba(60, 64, 67, 0.15);\n",
              "    fill: #174EA6;\n",
              "  }\n",
              "\n",
              "  [theme=dark] .colab-df-quickchart {\n",
              "    background-color: #3B4455;\n",
              "    fill: #D2E3FC;\n",
              "  }\n",
              "\n",
              "  [theme=dark] .colab-df-quickchart:hover {\n",
              "    background-color: #434B5C;\n",
              "    box-shadow: 0px 1px 3px 1px rgba(0, 0, 0, 0.15);\n",
              "    filter: drop-shadow(0px 1px 2px rgba(0, 0, 0, 0.3));\n",
              "    fill: #FFFFFF;\n",
              "  }\n",
              "</style>\n",
              "\n",
              "  <script>\n",
              "    async function quickchart(key) {\n",
              "      const charts = await google.colab.kernel.invokeFunction(\n",
              "          'suggestCharts', [key], {});\n",
              "    }\n",
              "    (() => {\n",
              "      let quickchartButtonEl =\n",
              "        document.querySelector('#df-a7c1a1c6-0d72-45e3-ad9f-26f83f8c973c button');\n",
              "      quickchartButtonEl.style.display =\n",
              "        google.colab.kernel.accessAllowed ? 'block' : 'none';\n",
              "    })();\n",
              "  </script>\n",
              "</div>\n",
              "    </div>\n",
              "  </div>\n"
            ]
          },
          "metadata": {},
          "execution_count": 16
        }
      ],
      "source": [
        "test.head()"
      ]
    },
    {
      "cell_type": "code",
      "execution_count": null,
      "id": "b31a3938",
      "metadata": {
        "colab": {
          "base_uri": "https://localhost:8080/",
          "height": 206
        },
        "id": "b31a3938",
        "outputId": "8889a04e-ce9c-41ad-e67f-fe214d45b9d5"
      },
      "outputs": [
        {
          "output_type": "execute_result",
          "data": {
            "text/plain": [
              "                                             diacratized  \\\n",
              "58047  أَنَّ مَا نَقَلَهُ الشَّارِحُ أَوَّلًا عَنْ ال...   \n",
              "58048  مَنْ يَدْخُلُ الْجَنَّةَ يَوْمَ الْقِيَامَةِ و...   \n",
              "58049  فَإِنْ احْتَجَمَ فَظَنَّ أَنَّ ذَلِكَ يُفْطِرُ...   \n",
              "58050  الْقَاعِدَتَيْنِ وَذَلِكَ أَنَّ الْقَائِلَ الْ...   \n",
              "58051  الْآيَةُ الْخَامِسَةُ وَالسِّتُّونَ قَوْله تَع...   \n",
              "\n",
              "                                                    text  \n",
              "58047  أن ما نقله الشارح أولا عن الفتح من أن الصريح م...  \n",
              "58048  من يدخل الجنة يوم القيامة ولا فخر وإني آتي باب...  \n",
              "58049  فإن احتجم فظن أن ذلك يفطره فأكل بعد ذلك متعمدا...  \n",
              "58050  القاعدتين وذلك أن القائل الأول يقول غروب الشمس...  \n",
              "58051  الآية الخامسة والستون قوله تعالى للذين يؤلون م...  "
            ],
            "text/html": [
              "\n",
              "  <div id=\"df-40f8090a-d7d2-43f7-a066-466165386aa0\" class=\"colab-df-container\">\n",
              "    <div>\n",
              "<style scoped>\n",
              "    .dataframe tbody tr th:only-of-type {\n",
              "        vertical-align: middle;\n",
              "    }\n",
              "\n",
              "    .dataframe tbody tr th {\n",
              "        vertical-align: top;\n",
              "    }\n",
              "\n",
              "    .dataframe thead th {\n",
              "        text-align: right;\n",
              "    }\n",
              "</style>\n",
              "<table border=\"1\" class=\"dataframe\">\n",
              "  <thead>\n",
              "    <tr style=\"text-align: right;\">\n",
              "      <th></th>\n",
              "      <th>diacratized</th>\n",
              "      <th>text</th>\n",
              "    </tr>\n",
              "  </thead>\n",
              "  <tbody>\n",
              "    <tr>\n",
              "      <th>58047</th>\n",
              "      <td>أَنَّ مَا نَقَلَهُ الشَّارِحُ أَوَّلًا عَنْ ال...</td>\n",
              "      <td>أن ما نقله الشارح أولا عن الفتح من أن الصريح م...</td>\n",
              "    </tr>\n",
              "    <tr>\n",
              "      <th>58048</th>\n",
              "      <td>مَنْ يَدْخُلُ الْجَنَّةَ يَوْمَ الْقِيَامَةِ و...</td>\n",
              "      <td>من يدخل الجنة يوم القيامة ولا فخر وإني آتي باب...</td>\n",
              "    </tr>\n",
              "    <tr>\n",
              "      <th>58049</th>\n",
              "      <td>فَإِنْ احْتَجَمَ فَظَنَّ أَنَّ ذَلِكَ يُفْطِرُ...</td>\n",
              "      <td>فإن احتجم فظن أن ذلك يفطره فأكل بعد ذلك متعمدا...</td>\n",
              "    </tr>\n",
              "    <tr>\n",
              "      <th>58050</th>\n",
              "      <td>الْقَاعِدَتَيْنِ وَذَلِكَ أَنَّ الْقَائِلَ الْ...</td>\n",
              "      <td>القاعدتين وذلك أن القائل الأول يقول غروب الشمس...</td>\n",
              "    </tr>\n",
              "    <tr>\n",
              "      <th>58051</th>\n",
              "      <td>الْآيَةُ الْخَامِسَةُ وَالسِّتُّونَ قَوْله تَع...</td>\n",
              "      <td>الآية الخامسة والستون قوله تعالى للذين يؤلون م...</td>\n",
              "    </tr>\n",
              "  </tbody>\n",
              "</table>\n",
              "</div>\n",
              "    <div class=\"colab-df-buttons\">\n",
              "\n",
              "  <div class=\"colab-df-container\">\n",
              "    <button class=\"colab-df-convert\" onclick=\"convertToInteractive('df-40f8090a-d7d2-43f7-a066-466165386aa0')\"\n",
              "            title=\"Convert this dataframe to an interactive table.\"\n",
              "            style=\"display:none;\">\n",
              "\n",
              "  <svg xmlns=\"http://www.w3.org/2000/svg\" height=\"24px\" viewBox=\"0 -960 960 960\">\n",
              "    <path d=\"M120-120v-720h720v720H120Zm60-500h600v-160H180v160Zm220 220h160v-160H400v160Zm0 220h160v-160H400v160ZM180-400h160v-160H180v160Zm440 0h160v-160H620v160ZM180-180h160v-160H180v160Zm440 0h160v-160H620v160Z\"/>\n",
              "  </svg>\n",
              "    </button>\n",
              "\n",
              "  <style>\n",
              "    .colab-df-container {\n",
              "      display:flex;\n",
              "      gap: 12px;\n",
              "    }\n",
              "\n",
              "    .colab-df-convert {\n",
              "      background-color: #E8F0FE;\n",
              "      border: none;\n",
              "      border-radius: 50%;\n",
              "      cursor: pointer;\n",
              "      display: none;\n",
              "      fill: #1967D2;\n",
              "      height: 32px;\n",
              "      padding: 0 0 0 0;\n",
              "      width: 32px;\n",
              "    }\n",
              "\n",
              "    .colab-df-convert:hover {\n",
              "      background-color: #E2EBFA;\n",
              "      box-shadow: 0px 1px 2px rgba(60, 64, 67, 0.3), 0px 1px 3px 1px rgba(60, 64, 67, 0.15);\n",
              "      fill: #174EA6;\n",
              "    }\n",
              "\n",
              "    .colab-df-buttons div {\n",
              "      margin-bottom: 4px;\n",
              "    }\n",
              "\n",
              "    [theme=dark] .colab-df-convert {\n",
              "      background-color: #3B4455;\n",
              "      fill: #D2E3FC;\n",
              "    }\n",
              "\n",
              "    [theme=dark] .colab-df-convert:hover {\n",
              "      background-color: #434B5C;\n",
              "      box-shadow: 0px 1px 3px 1px rgba(0, 0, 0, 0.15);\n",
              "      filter: drop-shadow(0px 1px 2px rgba(0, 0, 0, 0.3));\n",
              "      fill: #FFFFFF;\n",
              "    }\n",
              "  </style>\n",
              "\n",
              "    <script>\n",
              "      const buttonEl =\n",
              "        document.querySelector('#df-40f8090a-d7d2-43f7-a066-466165386aa0 button.colab-df-convert');\n",
              "      buttonEl.style.display =\n",
              "        google.colab.kernel.accessAllowed ? 'block' : 'none';\n",
              "\n",
              "      async function convertToInteractive(key) {\n",
              "        const element = document.querySelector('#df-40f8090a-d7d2-43f7-a066-466165386aa0');\n",
              "        const dataTable =\n",
              "          await google.colab.kernel.invokeFunction('convertToInteractive',\n",
              "                                                    [key], {});\n",
              "        if (!dataTable) return;\n",
              "\n",
              "        const docLinkHtml = 'Like what you see? Visit the ' +\n",
              "          '<a target=\"_blank\" href=https://colab.research.google.com/notebooks/data_table.ipynb>data table notebook</a>'\n",
              "          + ' to learn more about interactive tables.';\n",
              "        element.innerHTML = '';\n",
              "        dataTable['output_type'] = 'display_data';\n",
              "        await google.colab.output.renderOutput(dataTable, element);\n",
              "        const docLink = document.createElement('div');\n",
              "        docLink.innerHTML = docLinkHtml;\n",
              "        element.appendChild(docLink);\n",
              "      }\n",
              "    </script>\n",
              "  </div>\n",
              "\n",
              "\n",
              "<div id=\"df-89ba17f0-04d7-44bd-8f64-cd49945c0118\">\n",
              "  <button class=\"colab-df-quickchart\" onclick=\"quickchart('df-89ba17f0-04d7-44bd-8f64-cd49945c0118')\"\n",
              "            title=\"Suggest charts.\"\n",
              "            style=\"display:none;\">\n",
              "\n",
              "<svg xmlns=\"http://www.w3.org/2000/svg\" height=\"24px\"viewBox=\"0 0 24 24\"\n",
              "     width=\"24px\">\n",
              "    <g>\n",
              "        <path d=\"M19 3H5c-1.1 0-2 .9-2 2v14c0 1.1.9 2 2 2h14c1.1 0 2-.9 2-2V5c0-1.1-.9-2-2-2zM9 17H7v-7h2v7zm4 0h-2V7h2v10zm4 0h-2v-4h2v4z\"/>\n",
              "    </g>\n",
              "</svg>\n",
              "  </button>\n",
              "\n",
              "<style>\n",
              "  .colab-df-quickchart {\n",
              "    background-color: #E8F0FE;\n",
              "    border: none;\n",
              "    border-radius: 50%;\n",
              "    cursor: pointer;\n",
              "    display: none;\n",
              "    fill: #1967D2;\n",
              "    height: 32px;\n",
              "    padding: 0 0 0 0;\n",
              "    width: 32px;\n",
              "  }\n",
              "\n",
              "  .colab-df-quickchart:hover {\n",
              "    background-color: #E2EBFA;\n",
              "    box-shadow: 0px 1px 2px rgba(60, 64, 67, 0.3), 0px 1px 3px 1px rgba(60, 64, 67, 0.15);\n",
              "    fill: #174EA6;\n",
              "  }\n",
              "\n",
              "  [theme=dark] .colab-df-quickchart {\n",
              "    background-color: #3B4455;\n",
              "    fill: #D2E3FC;\n",
              "  }\n",
              "\n",
              "  [theme=dark] .colab-df-quickchart:hover {\n",
              "    background-color: #434B5C;\n",
              "    box-shadow: 0px 1px 3px 1px rgba(0, 0, 0, 0.15);\n",
              "    filter: drop-shadow(0px 1px 2px rgba(0, 0, 0, 0.3));\n",
              "    fill: #FFFFFF;\n",
              "  }\n",
              "</style>\n",
              "\n",
              "  <script>\n",
              "    async function quickchart(key) {\n",
              "      const charts = await google.colab.kernel.invokeFunction(\n",
              "          'suggestCharts', [key], {});\n",
              "    }\n",
              "    (() => {\n",
              "      let quickchartButtonEl =\n",
              "        document.querySelector('#df-89ba17f0-04d7-44bd-8f64-cd49945c0118 button');\n",
              "      quickchartButtonEl.style.display =\n",
              "        google.colab.kernel.accessAllowed ? 'block' : 'none';\n",
              "    })();\n",
              "  </script>\n",
              "</div>\n",
              "    </div>\n",
              "  </div>\n"
            ]
          },
          "metadata": {},
          "execution_count": 17
        }
      ],
      "source": [
        "test.tail()"
      ]
    },
    {
      "cell_type": "code",
      "execution_count": null,
      "id": "08f47af6",
      "metadata": {
        "colab": {
          "base_uri": "https://localhost:8080/"
        },
        "id": "08f47af6",
        "outputId": "9d448d75-b2af-47b8-861d-fd4e06dc5e5b"
      },
      "outputs": [
        {
          "output_type": "execute_result",
          "data": {
            "text/plain": [
              "58052"
            ]
          },
          "metadata": {},
          "execution_count": 18
        }
      ],
      "source": [
        "# Checking Length of diacratized text column in dataFrame\n",
        "diacritic_test = test['diacratized']\n",
        "len(diacritic_test)"
      ]
    },
    {
      "cell_type": "markdown",
      "id": "5bb0a243",
      "metadata": {
        "id": "5bb0a243"
      },
      "source": [
        "# Data Cleaning & Preprocessing"
      ]
    },
    {
      "cell_type": "markdown",
      "id": "0f0de781",
      "metadata": {
        "id": "0f0de781"
      },
      "source": [
        "# Wrangling and Retrieve Cleaned Train DataFrame"
      ]
    },
    {
      "cell_type": "code",
      "execution_count": null,
      "id": "ab66cfc0",
      "metadata": {
        "id": "ab66cfc0"
      },
      "outputs": [],
      "source": [
        "train['diacratized']  = train['diacratized'].apply(data_wrangling)"
      ]
    },
    {
      "cell_type": "markdown",
      "id": "d25f420a",
      "metadata": {
        "id": "d25f420a"
      },
      "source": [
        "# Wrangling and Retrieve Cleaned Test DataFrame"
      ]
    },
    {
      "cell_type": "code",
      "execution_count": null,
      "id": "408b32e8",
      "metadata": {
        "id": "408b32e8"
      },
      "outputs": [],
      "source": [
        "test['diacratized']  = test['diacratized'].apply(data_wrangling)"
      ]
    },
    {
      "cell_type": "markdown",
      "id": "gF4Aho8pWypX",
      "metadata": {
        "id": "gF4Aho8pWypX"
      },
      "source": [
        "# Taking A Part of DataFrame"
      ]
    },
    {
      "cell_type": "code",
      "execution_count": null,
      "id": "ONGMQoEcEJot",
      "metadata": {
        "id": "ONGMQoEcEJot"
      },
      "outputs": [],
      "source": [
        "train_part = train.iloc[:60000, :]\n",
        "test_part  = test.iloc[:6000,:]"
      ]
    },
    {
      "cell_type": "markdown",
      "source": [
        "# Taking only the first 15 words from sentences"
      ],
      "metadata": {
        "id": "8pIaJIIr6VB7"
      },
      "id": "8pIaJIIr6VB7"
    },
    {
      "cell_type": "code",
      "source": [
        "train_part['diacratized'] = train_part['diacratized'].str.split().apply(lambda x: ' '.join(x[:15]))\n",
        "test_part['diacratized'] = test_part['diacratized'].str.split().apply(lambda x: ' '.join(x[:15]))"
      ],
      "metadata": {
        "id": "ysuZTuMQ6b4G"
      },
      "id": "ysuZTuMQ6b4G",
      "execution_count": null,
      "outputs": []
    },
    {
      "cell_type": "markdown",
      "id": "tujF61e8W-Js",
      "metadata": {
        "id": "tujF61e8W-Js"
      },
      "source": [
        "# Applying Split Daicrtics From Arabictext"
      ]
    },
    {
      "cell_type": "code",
      "execution_count": null,
      "id": "oAuZOb_vEKes",
      "metadata": {
        "id": "oAuZOb_vEKes"
      },
      "outputs": [],
      "source": [
        "train_part[['X' ,'y']] = train_part['diacratized'].apply(lambda x: pd.Series(split_daicrtics_from_arabic_text(x)))\n",
        "test_part[['X' ,'y']] = test_part['diacratized'].apply(lambda x: pd.Series(split_daicrtics_from_arabic_text(x)))"
      ]
    },
    {
      "cell_type": "markdown",
      "id": "TbdGvHBLXSdl",
      "metadata": {
        "id": "TbdGvHBLXSdl"
      },
      "source": [
        "# Applaying Padding"
      ]
    },
    {
      "cell_type": "code",
      "execution_count": null,
      "id": "F_8MRs9vWoAr",
      "metadata": {
        "id": "F_8MRs9vWoAr"
      },
      "outputs": [],
      "source": [
        "max_length = 100\n",
        "\n",
        "#padding train part\n",
        "X , y = padding_sequence(max_length , train_part['X'] ,len(CHAR2INDEX)-1, train_part['y'] ,len(diacritic)-1 )\n",
        "\n",
        "#padding test part\n",
        "X_test , y_test = padding_sequence(max_length , test_part['X'] ,len(CHAR2INDEX)-1, test_part['y'] ,len(diacritic)-1)"
      ]
    },
    {
      "cell_type": "markdown",
      "id": "TPOM1LCGd2AX",
      "metadata": {
        "id": "TPOM1LCGd2AX"
      },
      "source": [
        "# Applaying Train Validation Split"
      ]
    },
    {
      "cell_type": "code",
      "execution_count": null,
      "id": "4Be_OdRkdjR4",
      "metadata": {
        "id": "4Be_OdRkdjR4"
      },
      "outputs": [],
      "source": [
        "from sklearn.model_selection import train_test_split\n",
        "x_train, x_val, y_train, y_val = train_test_split(X, y, test_size=0.04, random_state=42)"
      ]
    },
    {
      "cell_type": "markdown",
      "metadata": {
        "id": "36112c34"
      },
      "source": [
        "# Concate arabic letters with it's correct daicritics"
      ],
      "id": "36112c34"
    },
    {
      "cell_type": "code",
      "execution_count": null,
      "metadata": {
        "id": "dd7b59d3"
      },
      "outputs": [],
      "source": [
        "# Apply concate_arabic_letters_astext_with_daicritic on Validation Data\n",
        "all_val = []\n",
        "for i in range(len(x_val)):\n",
        "    concat_str = concate_arabic_letters_asnumber_with_daicritic(x_val[i], y_val[i], max_length)\n",
        "    all_val.append(concat_str)"
      ],
      "id": "dd7b59d3"
    },
    {
      "cell_type": "code",
      "execution_count": null,
      "metadata": {
        "id": "1f111c37"
      },
      "outputs": [],
      "source": [
        "# Apply concate_arabic_letters_astext_with_daicritic on Test Data\n",
        "all_test = []\n",
        "for i in range (len(X_test)):\n",
        "    concat_str = concate_arabic_letters_asnumber_with_daicritic(X_test[i] , y_test[i] , max_length )\n",
        "    all_test.append(concat_str)"
      ],
      "id": "1f111c37"
    },
    {
      "cell_type": "markdown",
      "id": "54y4anSZeU_Y",
      "metadata": {
        "id": "54y4anSZeU_Y"
      },
      "source": [
        "# Saving Train and Test"
      ]
    },
    {
      "cell_type": "code",
      "execution_count": null,
      "id": "LBpm9N-3eA-n",
      "metadata": {
        "id": "LBpm9N-3eA-n"
      },
      "outputs": [],
      "source": [
        "# Specify the directory path to save the files\n",
        "save_directory = '/content/drive/MyDrive/Utils'\n",
        "\n",
        "# Create the directory if it doesn't exist\n",
        "os.makedirs(save_directory, exist_ok=True)\n",
        "\n",
        "# Save x_train\n",
        "with open(os.path.join(save_directory, 'X_train.pkl'), 'wb') as f:\n",
        "    pickle.dump(x_train, f)\n",
        "\n",
        "# Save y_train\n",
        "with open(os.path.join(save_directory, 'y_train.pkl'), 'wb') as f:\n",
        "    pickle.dump(y_train, f)\n",
        "\n",
        "# Save x_test\n",
        "with open(os.path.join(save_directory, 'X_val.pkl'), 'wb') as f:\n",
        "    pickle.dump(x_val, f)\n",
        "\n",
        "# Save y_test\n",
        "with open(os.path.join(save_directory, 'y_val.pkl'), 'wb') as f:\n",
        "    pickle.dump(y_val, f)\n",
        "\n",
        "# Save orginal_validation data\n",
        "with open(os.path.join(save_directory,'val_orginal.txt'), 'w') as f:\n",
        "    for item in all_val:\n",
        "        f.write(\"%s\\n\" % item)\n",
        "# Save test data\n",
        "with open(os.path.join(save_directory,'test_orginal.txt'), 'w') as f:\n",
        "    for item in all_test:\n",
        "        f.write(\"%s\\n\" % item)"
      ]
    }
  ],
  "metadata": {
    "colab": {
      "provenance": []
    },
    "kernelspec": {
      "display_name": "Python 3 (ipykernel)",
      "language": "python",
      "name": "python3"
    },
    "language_info": {
      "codemirror_mode": {
        "name": "ipython",
        "version": 3
      },
      "file_extension": ".py",
      "mimetype": "text/x-python",
      "name": "python",
      "nbconvert_exporter": "python",
      "pygments_lexer": "ipython3",
      "version": "3.10.1"
    }
  },
  "nbformat": 4,
  "nbformat_minor": 5
}